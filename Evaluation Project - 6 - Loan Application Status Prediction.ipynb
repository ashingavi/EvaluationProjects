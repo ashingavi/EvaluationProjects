{
 "cells": [
  {
   "cell_type": "markdown",
   "id": "37cb5a11",
   "metadata": {},
   "source": [
    "### Evaluation Project - 6\n",
    "# Loan Application Status Prediction\n",
    "#### Problem Statement:\n",
    "\n",
    "This dataset includes details of applicants who have applied for loan. The dataset includes details like credit history, loan amount, their income, dependents etc. \n",
    "\n",
    "### Independent Variables:\n",
    "\n",
    "- Loan_ID\n",
    "\n",
    "- Gender\n",
    "\n",
    "- Married\n",
    "\n",
    "- Dependents\n",
    "\n",
    "- Education\n",
    "\n",
    "- Self_Employed\n",
    "\n",
    "- ApplicantIncome\n",
    "\n",
    "- CoapplicantIncome\n",
    "\n",
    "- Loan_Amount\n",
    "\n",
    "- Loan_Amount_Term\n",
    "\n",
    "- Credit History\n",
    "\n",
    "- Property_Area\n",
    "\n",
    "### Dependent Variable (Target Variable):\n",
    "\n",
    "- Loan_Status\n",
    "\n",
    "You have to build a model that can predict whether the loan of the applicant will be approved or not on the basis of the details provided in the dataset. \n",
    "\n",
    "### Note: The link of the dataset is below. \n",
    "\n",
    "#### Downlaod Files:\n",
    "\n",
    "    https://github.com/dsrscientist/DSData/blob/master/loan_prediction.csv"
   ]
  },
  {
   "cell_type": "markdown",
   "id": "1cacd4d2",
   "metadata": {},
   "source": [
    "### Importing required Liabraries"
   ]
  },
  {
   "cell_type": "code",
   "execution_count": 1,
   "id": "184d0ee9",
   "metadata": {},
   "outputs": [],
   "source": [
    "import pandas as pd\n",
    "import numpy as np\n",
    "import seaborn as sns\n",
    "import matplotlib.pyplot as plt\n",
    "\n",
    "from scipy.stats import zscore\n",
    "from sklearn.preprocessing import power_transform,StandardScaler,LabelEncoder,OrdinalEncoder,OneHotEncoder\n",
    "from sklearn.model_selection import train_test_split\n",
    "from sklearn.linear_model import LogisticRegression\n",
    "from sklearn.tree import DecisionTreeClassifier\n",
    "from sklearn.ensemble import RandomForestClassifier,AdaBoostClassifier\n",
    "from sklearn.neighbors import KNeighborsClassifier\n",
    "from sklearn.svm import SVC\n",
    "from sklearn.model_selection import GridSearchCV,cross_val_score\n",
    "from sklearn.metrics import accuracy_score,confusion_matrix,classification_report,roc_curve,roc_auc_score,plot_roc_curve,plot_confusion_matrix\n",
    "\n",
    "import warnings\n",
    "warnings.filterwarnings('ignore')"
   ]
  },
  {
   "cell_type": "code",
   "execution_count": 2,
   "id": "62c9422c",
   "metadata": {},
   "outputs": [
    {
     "data": {
      "text/html": [
       "<div>\n",
       "<style scoped>\n",
       "    .dataframe tbody tr th:only-of-type {\n",
       "        vertical-align: middle;\n",
       "    }\n",
       "\n",
       "    .dataframe tbody tr th {\n",
       "        vertical-align: top;\n",
       "    }\n",
       "\n",
       "    .dataframe thead th {\n",
       "        text-align: right;\n",
       "    }\n",
       "</style>\n",
       "<table border=\"1\" class=\"dataframe\">\n",
       "  <thead>\n",
       "    <tr style=\"text-align: right;\">\n",
       "      <th></th>\n",
       "      <th>Loan_ID</th>\n",
       "      <th>Gender</th>\n",
       "      <th>Married</th>\n",
       "      <th>Dependents</th>\n",
       "      <th>Education</th>\n",
       "      <th>Self_Employed</th>\n",
       "      <th>ApplicantIncome</th>\n",
       "      <th>CoapplicantIncome</th>\n",
       "      <th>LoanAmount</th>\n",
       "      <th>Loan_Amount_Term</th>\n",
       "      <th>Credit_History</th>\n",
       "      <th>Property_Area</th>\n",
       "      <th>Loan_Status</th>\n",
       "    </tr>\n",
       "  </thead>\n",
       "  <tbody>\n",
       "    <tr>\n",
       "      <th>0</th>\n",
       "      <td>LP001002</td>\n",
       "      <td>Male</td>\n",
       "      <td>No</td>\n",
       "      <td>0</td>\n",
       "      <td>Graduate</td>\n",
       "      <td>No</td>\n",
       "      <td>5849</td>\n",
       "      <td>0.0</td>\n",
       "      <td>NaN</td>\n",
       "      <td>360.0</td>\n",
       "      <td>1.0</td>\n",
       "      <td>Urban</td>\n",
       "      <td>Y</td>\n",
       "    </tr>\n",
       "    <tr>\n",
       "      <th>1</th>\n",
       "      <td>LP001003</td>\n",
       "      <td>Male</td>\n",
       "      <td>Yes</td>\n",
       "      <td>1</td>\n",
       "      <td>Graduate</td>\n",
       "      <td>No</td>\n",
       "      <td>4583</td>\n",
       "      <td>1508.0</td>\n",
       "      <td>128.0</td>\n",
       "      <td>360.0</td>\n",
       "      <td>1.0</td>\n",
       "      <td>Rural</td>\n",
       "      <td>N</td>\n",
       "    </tr>\n",
       "    <tr>\n",
       "      <th>2</th>\n",
       "      <td>LP001005</td>\n",
       "      <td>Male</td>\n",
       "      <td>Yes</td>\n",
       "      <td>0</td>\n",
       "      <td>Graduate</td>\n",
       "      <td>Yes</td>\n",
       "      <td>3000</td>\n",
       "      <td>0.0</td>\n",
       "      <td>66.0</td>\n",
       "      <td>360.0</td>\n",
       "      <td>1.0</td>\n",
       "      <td>Urban</td>\n",
       "      <td>Y</td>\n",
       "    </tr>\n",
       "    <tr>\n",
       "      <th>3</th>\n",
       "      <td>LP001006</td>\n",
       "      <td>Male</td>\n",
       "      <td>Yes</td>\n",
       "      <td>0</td>\n",
       "      <td>Not Graduate</td>\n",
       "      <td>No</td>\n",
       "      <td>2583</td>\n",
       "      <td>2358.0</td>\n",
       "      <td>120.0</td>\n",
       "      <td>360.0</td>\n",
       "      <td>1.0</td>\n",
       "      <td>Urban</td>\n",
       "      <td>Y</td>\n",
       "    </tr>\n",
       "    <tr>\n",
       "      <th>4</th>\n",
       "      <td>LP001008</td>\n",
       "      <td>Male</td>\n",
       "      <td>No</td>\n",
       "      <td>0</td>\n",
       "      <td>Graduate</td>\n",
       "      <td>No</td>\n",
       "      <td>6000</td>\n",
       "      <td>0.0</td>\n",
       "      <td>141.0</td>\n",
       "      <td>360.0</td>\n",
       "      <td>1.0</td>\n",
       "      <td>Urban</td>\n",
       "      <td>Y</td>\n",
       "    </tr>\n",
       "  </tbody>\n",
       "</table>\n",
       "</div>"
      ],
      "text/plain": [
       "    Loan_ID Gender Married Dependents     Education Self_Employed  \\\n",
       "0  LP001002   Male      No          0      Graduate            No   \n",
       "1  LP001003   Male     Yes          1      Graduate            No   \n",
       "2  LP001005   Male     Yes          0      Graduate           Yes   \n",
       "3  LP001006   Male     Yes          0  Not Graduate            No   \n",
       "4  LP001008   Male      No          0      Graduate            No   \n",
       "\n",
       "   ApplicantIncome  CoapplicantIncome  LoanAmount  Loan_Amount_Term  \\\n",
       "0             5849                0.0         NaN             360.0   \n",
       "1             4583             1508.0       128.0             360.0   \n",
       "2             3000                0.0        66.0             360.0   \n",
       "3             2583             2358.0       120.0             360.0   \n",
       "4             6000                0.0       141.0             360.0   \n",
       "\n",
       "   Credit_History Property_Area Loan_Status  \n",
       "0             1.0         Urban           Y  \n",
       "1             1.0         Rural           N  \n",
       "2             1.0         Urban           Y  \n",
       "3             1.0         Urban           Y  \n",
       "4             1.0         Urban           Y  "
      ]
     },
     "execution_count": 2,
     "metadata": {},
     "output_type": "execute_result"
    }
   ],
   "source": [
    "df=pd.read_csv(\"https://raw.githubusercontent.com/dsrscientist/DSData/master/loan_prediction.csv\")\n",
    "df.head() # Checking sample date using head (First 5 rows)"
   ]
  },
  {
   "cell_type": "code",
   "execution_count": 3,
   "id": "51d16376",
   "metadata": {},
   "outputs": [
    {
     "data": {
      "text/plain": [
       "(614, 13)"
      ]
     },
     "execution_count": 3,
     "metadata": {},
     "output_type": "execute_result"
    }
   ],
   "source": [
    "# Checking total number of rows and columns available in our dataset\n",
    "\n",
    "df.shape"
   ]
  },
  {
   "cell_type": "code",
   "execution_count": 4,
   "id": "a17be859",
   "metadata": {},
   "outputs": [
    {
     "name": "stdout",
     "output_type": "stream",
     "text": [
      "<class 'pandas.core.frame.DataFrame'>\n",
      "RangeIndex: 614 entries, 0 to 613\n",
      "Data columns (total 13 columns):\n",
      " #   Column             Non-Null Count  Dtype  \n",
      "---  ------             --------------  -----  \n",
      " 0   Loan_ID            614 non-null    object \n",
      " 1   Gender             601 non-null    object \n",
      " 2   Married            611 non-null    object \n",
      " 3   Dependents         599 non-null    object \n",
      " 4   Education          614 non-null    object \n",
      " 5   Self_Employed      582 non-null    object \n",
      " 6   ApplicantIncome    614 non-null    int64  \n",
      " 7   CoapplicantIncome  614 non-null    float64\n",
      " 8   LoanAmount         592 non-null    float64\n",
      " 9   Loan_Amount_Term   600 non-null    float64\n",
      " 10  Credit_History     564 non-null    float64\n",
      " 11  Property_Area      614 non-null    object \n",
      " 12  Loan_Status        614 non-null    object \n",
      "dtypes: float64(4), int64(1), object(8)\n",
      "memory usage: 62.5+ KB\n"
     ]
    }
   ],
   "source": [
    "# Checking some info of our data (type null count etc)\n",
    "df.info()"
   ]
  },
  {
   "cell_type": "markdown",
   "id": "cf967433",
   "metadata": {},
   "source": [
    "### DATA CLEANING"
   ]
  },
  {
   "cell_type": "code",
   "execution_count": 5,
   "id": "45ce19db",
   "metadata": {},
   "outputs": [
    {
     "data": {
      "text/plain": [
       "Loan_ID              614\n",
       "Gender                 2\n",
       "Married                2\n",
       "Dependents             4\n",
       "Education              2\n",
       "Self_Employed          2\n",
       "ApplicantIncome      505\n",
       "CoapplicantIncome    287\n",
       "LoanAmount           203\n",
       "Loan_Amount_Term      10\n",
       "Credit_History         2\n",
       "Property_Area          3\n",
       "Loan_Status            2\n",
       "dtype: int64"
      ]
     },
     "execution_count": 5,
     "metadata": {},
     "output_type": "execute_result"
    }
   ],
   "source": [
    "df.nunique()"
   ]
  },
  {
   "cell_type": "code",
   "execution_count": 6,
   "id": "91e2f121",
   "metadata": {},
   "outputs": [
    {
     "name": "stdout",
     "output_type": "stream",
     "text": [
      "LP001002    1\n",
      "LP002328    1\n",
      "LP002305    1\n",
      "LP002308    1\n",
      "LP002314    1\n",
      "           ..\n",
      "LP001692    1\n",
      "LP001693    1\n",
      "LP001698    1\n",
      "LP001699    1\n",
      "LP002990    1\n",
      "Name: Loan_ID, Length: 614, dtype: int64\n",
      "\n",
      " ================================================================= \n",
      "\n",
      "Male      489\n",
      "Female    112\n",
      "Name: Gender, dtype: int64\n",
      "\n",
      " ================================================================= \n",
      "\n",
      "Yes    398\n",
      "No     213\n",
      "Name: Married, dtype: int64\n",
      "\n",
      " ================================================================= \n",
      "\n",
      "0     345\n",
      "1     102\n",
      "2     101\n",
      "3+     51\n",
      "Name: Dependents, dtype: int64\n",
      "\n",
      " ================================================================= \n",
      "\n",
      "Graduate        480\n",
      "Not Graduate    134\n",
      "Name: Education, dtype: int64\n",
      "\n",
      " ================================================================= \n",
      "\n",
      "No     500\n",
      "Yes     82\n",
      "Name: Self_Employed, dtype: int64\n",
      "\n",
      " ================================================================= \n",
      "\n",
      "2500    9\n",
      "4583    6\n",
      "6000    6\n",
      "2600    6\n",
      "3333    5\n",
      "       ..\n",
      "3244    1\n",
      "4408    1\n",
      "3917    1\n",
      "3992    1\n",
      "7583    1\n",
      "Name: ApplicantIncome, Length: 505, dtype: int64\n",
      "\n",
      " ================================================================= \n",
      "\n",
      "0.0       273\n",
      "2500.0      5\n",
      "2083.0      5\n",
      "1666.0      5\n",
      "2250.0      3\n",
      "         ... \n",
      "2791.0      1\n",
      "1010.0      1\n",
      "1695.0      1\n",
      "2598.0      1\n",
      "240.0       1\n",
      "Name: CoapplicantIncome, Length: 287, dtype: int64\n",
      "\n",
      " ================================================================= \n",
      "\n",
      "120.0    20\n",
      "110.0    17\n",
      "100.0    15\n",
      "160.0    12\n",
      "187.0    12\n",
      "         ..\n",
      "240.0     1\n",
      "214.0     1\n",
      "59.0      1\n",
      "166.0     1\n",
      "253.0     1\n",
      "Name: LoanAmount, Length: 203, dtype: int64\n",
      "\n",
      " ================================================================= \n",
      "\n",
      "360.0    512\n",
      "180.0     44\n",
      "480.0     15\n",
      "300.0     13\n",
      "240.0      4\n",
      "84.0       4\n",
      "120.0      3\n",
      "60.0       2\n",
      "36.0       2\n",
      "12.0       1\n",
      "Name: Loan_Amount_Term, dtype: int64\n",
      "\n",
      " ================================================================= \n",
      "\n",
      "1.0    475\n",
      "0.0     89\n",
      "Name: Credit_History, dtype: int64\n",
      "\n",
      " ================================================================= \n",
      "\n",
      "Semiurban    233\n",
      "Urban        202\n",
      "Rural        179\n",
      "Name: Property_Area, dtype: int64\n",
      "\n",
      " ================================================================= \n",
      "\n",
      "Y    422\n",
      "N    192\n",
      "Name: Loan_Status, dtype: int64\n",
      "\n",
      " ================================================================= \n",
      "\n"
     ]
    }
   ],
   "source": [
    "for i in df.columns:\n",
    "    print(df[i].value_counts())\n",
    "    print('\\n','=================================================================','\\n')"
   ]
  },
  {
   "cell_type": "code",
   "execution_count": 7,
   "id": "c7c71240",
   "metadata": {},
   "outputs": [
    {
     "data": {
      "text/plain": [
       "Loan_ID               0\n",
       "Gender               13\n",
       "Married               3\n",
       "Dependents           15\n",
       "Education             0\n",
       "Self_Employed        32\n",
       "ApplicantIncome       0\n",
       "CoapplicantIncome     0\n",
       "LoanAmount           22\n",
       "Loan_Amount_Term     14\n",
       "Credit_History       50\n",
       "Property_Area         0\n",
       "Loan_Status           0\n",
       "dtype: int64"
      ]
     },
     "execution_count": 7,
     "metadata": {},
     "output_type": "execute_result"
    }
   ],
   "source": [
    "# Checking null values in our dataset\n",
    "\n",
    "df.isna().sum()"
   ]
  },
  {
   "cell_type": "markdown",
   "id": "15754dcd",
   "metadata": {},
   "source": [
    "# Observation\n",
    "===========================================================================================================================\n",
    "- There are null values in our data set we will first get these null values updated with the help of mean, median and mode.\n",
    "- Most of the columns in our data is catergorical data, need to update them into numberic with help of label encoder.\n",
    "- We can remove 'Loan ID' column as data in the row is unique.\n",
    "- In 'Dependents' column there is one column '3+' due to which our column type is reflecting as object, need to update it to intiger.\n",
    "\n",
    "==========================================================================================================================="
   ]
  },
  {
   "cell_type": "code",
   "execution_count": 8,
   "id": "a33b17d1",
   "metadata": {},
   "outputs": [
    {
     "name": "stdout",
     "output_type": "stream",
     "text": [
      ">>>>>>>>>>>>>>>>>>>>>>>>>>>>>>>>>>>>>>>>>>>>>>>>>> \n",
      "\n",
      "Male      489\n",
      "Female    112\n",
      "Name: Gender, dtype: int64\n",
      ">>>>>>>>>>>>>>>>>>>>>>>>>>>>>>>>>>>>>>>>>>>>>>>>>> \n",
      "\n",
      "Yes    398\n",
      "No     213\n",
      "Name: Married, dtype: int64\n",
      ">>>>>>>>>>>>>>>>>>>>>>>>>>>>>>>>>>>>>>>>>>>>>>>>>> \n",
      "\n",
      "0     345\n",
      "1     102\n",
      "2     101\n",
      "3+     51\n",
      "Name: Dependents, dtype: int64\n",
      ">>>>>>>>>>>>>>>>>>>>>>>>>>>>>>>>>>>>>>>>>>>>>>>>>> \n",
      "\n",
      "No     500\n",
      "Yes     82\n",
      "Name: Self_Employed, dtype: int64\n",
      ">>>>>>>>>>>>>>>>>>>>>>>>>>>>>>>>>>>>>>>>>>>>>>>>>> \n",
      "\n",
      "120.0    20\n",
      "110.0    17\n",
      "100.0    15\n",
      "160.0    12\n",
      "187.0    12\n",
      "         ..\n",
      "240.0     1\n",
      "214.0     1\n",
      "59.0      1\n",
      "166.0     1\n",
      "253.0     1\n",
      "Name: LoanAmount, Length: 203, dtype: int64\n",
      ">>>>>>>>>>>>>>>>>>>>>>>>>>>>>>>>>>>>>>>>>>>>>>>>>> \n",
      "\n",
      "360.0    512\n",
      "180.0     44\n",
      "480.0     15\n",
      "300.0     13\n",
      "240.0      4\n",
      "84.0       4\n",
      "120.0      3\n",
      "60.0       2\n",
      "36.0       2\n",
      "12.0       1\n",
      "Name: Loan_Amount_Term, dtype: int64\n",
      ">>>>>>>>>>>>>>>>>>>>>>>>>>>>>>>>>>>>>>>>>>>>>>>>>> \n",
      "\n",
      "1.0    475\n",
      "0.0     89\n",
      "Name: Credit_History, dtype: int64\n",
      ">>>>>>>>>>>>>>>>>>>>>>>>>>>>>>>>>>>>>>>>>>>>>>>>>> \n",
      "\n"
     ]
    }
   ],
   "source": [
    "# Checking sample data by grouping them\n",
    "print('>'*50, '\\n')\n",
    "print(df.Gender.value_counts())\n",
    "print('>'*50, '\\n')\n",
    "print(df.Married.value_counts())\n",
    "print('>'*50, '\\n')\n",
    "print(df.Dependents.value_counts())\n",
    "print('>'*50, '\\n')\n",
    "print(df.Self_Employed.value_counts())\n",
    "print('>'*50, '\\n')\n",
    "print(df.LoanAmount.value_counts())\n",
    "print('>'*50, '\\n')\n",
    "print(df.Loan_Amount_Term.value_counts())\n",
    "print('>'*50, '\\n')\n",
    "print (df.Credit_History.value_counts())\n",
    "print('>'*50, '\\n')"
   ]
  },
  {
   "cell_type": "code",
   "execution_count": 9,
   "id": "2064992b",
   "metadata": {},
   "outputs": [],
   "source": [
    "#Missing values handling using mean,mode,median\n",
    "\n",
    "# Replacing values by mode\n",
    "\n",
    "df[\"Gender\"]=df[\"Gender\"].fillna(df[\"Gender\"].mode()[0])\n",
    "df[\"Married\"]=df[\"Married\"].fillna(df[\"Married\"].mode()[0])\n",
    "df[\"Dependents\"]=df[\"Dependents\"].fillna(df[\"Dependents\"].mode()[0])\n",
    "df[\"Self_Employed\"]=df[\"Self_Employed\"].fillna(df[\"Self_Employed\"].mode()[0])\n",
    "df[\"Credit_History\"]=df[\"Credit_History\"].fillna(df[\"Credit_History\"].mode()[0])\n",
    "\n",
    "# Replacing null values by median\n",
    "df[\"Loan_Amount_Term\"]=df[\"Loan_Amount_Term\"].fillna(df[\"Loan_Amount_Term\"].median())\n",
    "df[\"LoanAmount\"]=df[\"LoanAmount\"].fillna(df[\"LoanAmount\"].median())"
   ]
  },
  {
   "cell_type": "code",
   "execution_count": 10,
   "id": "31b53962",
   "metadata": {},
   "outputs": [
    {
     "data": {
      "text/html": [
       "<div>\n",
       "<style scoped>\n",
       "    .dataframe tbody tr th:only-of-type {\n",
       "        vertical-align: middle;\n",
       "    }\n",
       "\n",
       "    .dataframe tbody tr th {\n",
       "        vertical-align: top;\n",
       "    }\n",
       "\n",
       "    .dataframe thead th {\n",
       "        text-align: right;\n",
       "    }\n",
       "</style>\n",
       "<table border=\"1\" class=\"dataframe\">\n",
       "  <thead>\n",
       "    <tr style=\"text-align: right;\">\n",
       "      <th></th>\n",
       "      <th>Loan_ID</th>\n",
       "      <th>Gender</th>\n",
       "      <th>Married</th>\n",
       "      <th>Dependents</th>\n",
       "      <th>Education</th>\n",
       "      <th>Self_Employed</th>\n",
       "      <th>ApplicantIncome</th>\n",
       "      <th>CoapplicantIncome</th>\n",
       "      <th>LoanAmount</th>\n",
       "      <th>Loan_Amount_Term</th>\n",
       "      <th>Credit_History</th>\n",
       "      <th>Property_Area</th>\n",
       "      <th>Loan_Status</th>\n",
       "    </tr>\n",
       "  </thead>\n",
       "  <tbody>\n",
       "    <tr>\n",
       "      <th>0</th>\n",
       "      <td>LP001002</td>\n",
       "      <td>1</td>\n",
       "      <td>0</td>\n",
       "      <td>0</td>\n",
       "      <td>0</td>\n",
       "      <td>0</td>\n",
       "      <td>5849</td>\n",
       "      <td>0.0</td>\n",
       "      <td>128.0</td>\n",
       "      <td>360.0</td>\n",
       "      <td>1.0</td>\n",
       "      <td>2</td>\n",
       "      <td>1</td>\n",
       "    </tr>\n",
       "    <tr>\n",
       "      <th>1</th>\n",
       "      <td>LP001003</td>\n",
       "      <td>1</td>\n",
       "      <td>1</td>\n",
       "      <td>1</td>\n",
       "      <td>0</td>\n",
       "      <td>0</td>\n",
       "      <td>4583</td>\n",
       "      <td>1508.0</td>\n",
       "      <td>128.0</td>\n",
       "      <td>360.0</td>\n",
       "      <td>1.0</td>\n",
       "      <td>0</td>\n",
       "      <td>0</td>\n",
       "    </tr>\n",
       "    <tr>\n",
       "      <th>2</th>\n",
       "      <td>LP001005</td>\n",
       "      <td>1</td>\n",
       "      <td>1</td>\n",
       "      <td>0</td>\n",
       "      <td>0</td>\n",
       "      <td>1</td>\n",
       "      <td>3000</td>\n",
       "      <td>0.0</td>\n",
       "      <td>66.0</td>\n",
       "      <td>360.0</td>\n",
       "      <td>1.0</td>\n",
       "      <td>2</td>\n",
       "      <td>1</td>\n",
       "    </tr>\n",
       "    <tr>\n",
       "      <th>3</th>\n",
       "      <td>LP001006</td>\n",
       "      <td>1</td>\n",
       "      <td>1</td>\n",
       "      <td>0</td>\n",
       "      <td>1</td>\n",
       "      <td>0</td>\n",
       "      <td>2583</td>\n",
       "      <td>2358.0</td>\n",
       "      <td>120.0</td>\n",
       "      <td>360.0</td>\n",
       "      <td>1.0</td>\n",
       "      <td>2</td>\n",
       "      <td>1</td>\n",
       "    </tr>\n",
       "    <tr>\n",
       "      <th>4</th>\n",
       "      <td>LP001008</td>\n",
       "      <td>1</td>\n",
       "      <td>0</td>\n",
       "      <td>0</td>\n",
       "      <td>0</td>\n",
       "      <td>0</td>\n",
       "      <td>6000</td>\n",
       "      <td>0.0</td>\n",
       "      <td>141.0</td>\n",
       "      <td>360.0</td>\n",
       "      <td>1.0</td>\n",
       "      <td>2</td>\n",
       "      <td>1</td>\n",
       "    </tr>\n",
       "    <tr>\n",
       "      <th>...</th>\n",
       "      <td>...</td>\n",
       "      <td>...</td>\n",
       "      <td>...</td>\n",
       "      <td>...</td>\n",
       "      <td>...</td>\n",
       "      <td>...</td>\n",
       "      <td>...</td>\n",
       "      <td>...</td>\n",
       "      <td>...</td>\n",
       "      <td>...</td>\n",
       "      <td>...</td>\n",
       "      <td>...</td>\n",
       "      <td>...</td>\n",
       "    </tr>\n",
       "    <tr>\n",
       "      <th>609</th>\n",
       "      <td>LP002978</td>\n",
       "      <td>0</td>\n",
       "      <td>0</td>\n",
       "      <td>0</td>\n",
       "      <td>0</td>\n",
       "      <td>0</td>\n",
       "      <td>2900</td>\n",
       "      <td>0.0</td>\n",
       "      <td>71.0</td>\n",
       "      <td>360.0</td>\n",
       "      <td>1.0</td>\n",
       "      <td>0</td>\n",
       "      <td>1</td>\n",
       "    </tr>\n",
       "    <tr>\n",
       "      <th>610</th>\n",
       "      <td>LP002979</td>\n",
       "      <td>1</td>\n",
       "      <td>1</td>\n",
       "      <td>3+</td>\n",
       "      <td>0</td>\n",
       "      <td>0</td>\n",
       "      <td>4106</td>\n",
       "      <td>0.0</td>\n",
       "      <td>40.0</td>\n",
       "      <td>180.0</td>\n",
       "      <td>1.0</td>\n",
       "      <td>0</td>\n",
       "      <td>1</td>\n",
       "    </tr>\n",
       "    <tr>\n",
       "      <th>611</th>\n",
       "      <td>LP002983</td>\n",
       "      <td>1</td>\n",
       "      <td>1</td>\n",
       "      <td>1</td>\n",
       "      <td>0</td>\n",
       "      <td>0</td>\n",
       "      <td>8072</td>\n",
       "      <td>240.0</td>\n",
       "      <td>253.0</td>\n",
       "      <td>360.0</td>\n",
       "      <td>1.0</td>\n",
       "      <td>2</td>\n",
       "      <td>1</td>\n",
       "    </tr>\n",
       "    <tr>\n",
       "      <th>612</th>\n",
       "      <td>LP002984</td>\n",
       "      <td>1</td>\n",
       "      <td>1</td>\n",
       "      <td>2</td>\n",
       "      <td>0</td>\n",
       "      <td>0</td>\n",
       "      <td>7583</td>\n",
       "      <td>0.0</td>\n",
       "      <td>187.0</td>\n",
       "      <td>360.0</td>\n",
       "      <td>1.0</td>\n",
       "      <td>2</td>\n",
       "      <td>1</td>\n",
       "    </tr>\n",
       "    <tr>\n",
       "      <th>613</th>\n",
       "      <td>LP002990</td>\n",
       "      <td>0</td>\n",
       "      <td>0</td>\n",
       "      <td>0</td>\n",
       "      <td>0</td>\n",
       "      <td>1</td>\n",
       "      <td>4583</td>\n",
       "      <td>0.0</td>\n",
       "      <td>133.0</td>\n",
       "      <td>360.0</td>\n",
       "      <td>0.0</td>\n",
       "      <td>1</td>\n",
       "      <td>0</td>\n",
       "    </tr>\n",
       "  </tbody>\n",
       "</table>\n",
       "<p>614 rows × 13 columns</p>\n",
       "</div>"
      ],
      "text/plain": [
       "      Loan_ID  Gender  Married Dependents  Education  Self_Employed  \\\n",
       "0    LP001002       1        0          0          0              0   \n",
       "1    LP001003       1        1          1          0              0   \n",
       "2    LP001005       1        1          0          0              1   \n",
       "3    LP001006       1        1          0          1              0   \n",
       "4    LP001008       1        0          0          0              0   \n",
       "..        ...     ...      ...        ...        ...            ...   \n",
       "609  LP002978       0        0          0          0              0   \n",
       "610  LP002979       1        1         3+          0              0   \n",
       "611  LP002983       1        1          1          0              0   \n",
       "612  LP002984       1        1          2          0              0   \n",
       "613  LP002990       0        0          0          0              1   \n",
       "\n",
       "     ApplicantIncome  CoapplicantIncome  LoanAmount  Loan_Amount_Term  \\\n",
       "0               5849                0.0       128.0             360.0   \n",
       "1               4583             1508.0       128.0             360.0   \n",
       "2               3000                0.0        66.0             360.0   \n",
       "3               2583             2358.0       120.0             360.0   \n",
       "4               6000                0.0       141.0             360.0   \n",
       "..               ...                ...         ...               ...   \n",
       "609             2900                0.0        71.0             360.0   \n",
       "610             4106                0.0        40.0             180.0   \n",
       "611             8072              240.0       253.0             360.0   \n",
       "612             7583                0.0       187.0             360.0   \n",
       "613             4583                0.0       133.0             360.0   \n",
       "\n",
       "     Credit_History  Property_Area  Loan_Status  \n",
       "0               1.0              2            1  \n",
       "1               1.0              0            0  \n",
       "2               1.0              2            1  \n",
       "3               1.0              2            1  \n",
       "4               1.0              2            1  \n",
       "..              ...            ...          ...  \n",
       "609             1.0              0            1  \n",
       "610             1.0              0            1  \n",
       "611             1.0              2            1  \n",
       "612             1.0              2            1  \n",
       "613             0.0              1            0  \n",
       "\n",
       "[614 rows x 13 columns]"
      ]
     },
     "execution_count": 10,
     "metadata": {},
     "output_type": "execute_result"
    }
   ],
   "source": [
    "# Encoding categorical below catergorical data\n",
    "# ==========\n",
    "# Gender             \n",
    "# Married                \n",
    "# Education\n",
    "# Self_Employed      \n",
    "# Property_Area      \n",
    "# Loan_Status        \n",
    "# =========\n",
    "\n",
    "# Note here column 'Dependents' only have one objective data which we will replace manually.\n",
    "\n",
    "LE = LabelEncoder()\n",
    "\n",
    "VAR = ['Gender','Married','Education','Self_Employed','Property_Area','Loan_Status']\n",
    "for i in VAR:\n",
    "    df[i]=LE.fit_transform(df[i])\n",
    "df"
   ]
  },
  {
   "cell_type": "code",
   "execution_count": 11,
   "id": "d71a0c64",
   "metadata": {},
   "outputs": [],
   "source": [
    "# Replacing '3+' in Dependents column to 3\n",
    "\n",
    "df[\"Dependents\"]=df[\"Dependents\"].map(lambda x:x.rstrip(\"+\")) # removing + sign from dependant column\n",
    "df[\"Dependents\"]=df.Dependents.astype(float)     #To convert object type into float type\n"
   ]
  },
  {
   "cell_type": "code",
   "execution_count": 12,
   "id": "3acf1df0",
   "metadata": {},
   "outputs": [
    {
     "data": {
      "text/plain": [
       "Dependents\n",
       "0.0    360\n",
       "1.0    102\n",
       "2.0    101\n",
       "3.0     51\n",
       "dtype: int64"
      ]
     },
     "execution_count": 12,
     "metadata": {},
     "output_type": "execute_result"
    }
   ],
   "source": [
    "# Checking if 'Dependents' type is now changed to int.\n",
    "\n",
    "df.value_counts('Dependents')"
   ]
  },
  {
   "cell_type": "code",
   "execution_count": 13,
   "id": "a0a78f41",
   "metadata": {},
   "outputs": [],
   "source": [
    "# Droping Loan id from our data set, all have unique values, which will not affect our dataset \n",
    "df = df.drop('Loan_ID', axis = True)"
   ]
  },
  {
   "cell_type": "code",
   "execution_count": 14,
   "id": "38c12d44",
   "metadata": {},
   "outputs": [
    {
     "data": {
      "text/plain": [
       "Index(['Gender', 'Married', 'Dependents', 'Education', 'Self_Employed',\n",
       "       'ApplicantIncome', 'CoapplicantIncome', 'LoanAmount',\n",
       "       'Loan_Amount_Term', 'Credit_History', 'Property_Area', 'Loan_Status'],\n",
       "      dtype='object')"
      ]
     },
     "execution_count": 14,
     "metadata": {},
     "output_type": "execute_result"
    }
   ],
   "source": [
    "df.columns"
   ]
  },
  {
   "cell_type": "markdown",
   "id": "56597fb1",
   "metadata": {},
   "source": [
    "## DATA PREPROCESSING AND EDA (EXPLORATORY DATA ANALYSIS)\n",
    "**>>>>>>>>>>>>>>><<<<<<<<<<<<<>>>>>>>>>>>>><<<<<<<<<<<<<<<<<<<<<<<>>>>>>>>>>>>>>>>><<<<<<<<<<<<<<<<<<<>>>>>>>>>>>**"
   ]
  },
  {
   "cell_type": "markdown",
   "id": "569a8cf8",
   "metadata": {},
   "source": [
    "### Visualizing column wised data - Single column."
   ]
  },
  {
   "cell_type": "code",
   "execution_count": 15,
   "id": "ae9fbdcf",
   "metadata": {},
   "outputs": [
    {
     "data": {
      "text/plain": [
       "1    422\n",
       "0    192\n",
       "Name: Loan_Status, dtype: int64"
      ]
     },
     "execution_count": 15,
     "metadata": {},
     "output_type": "execute_result"
    },
    {
     "data": {
      "image/png": "[encoded data removed]",
      "text/plain": [
       "<Figure size 432x288 with 1 Axes>"
      ]
     },
     "metadata": {
      "needs_background": "light"
     },
     "output_type": "display_data"
    }
   ],
   "source": [
    "sns.countplot('Loan_Status', data = df)\n",
    "df['Loan_Status'].value_counts()"
   ]
  },
  {
   "cell_type": "markdown",
   "id": "fd310d45",
   "metadata": {},
   "source": [
    "Out of 614 people 422 received loan and 192 didnt received it."
   ]
  },
  {
   "cell_type": "code",
   "execution_count": 16,
   "id": "e77e33d6",
   "metadata": {},
   "outputs": [
    {
     "data": {
      "text/plain": [
       "1    502\n",
       "0    112\n",
       "Name: Gender, dtype: int64"
      ]
     },
     "execution_count": 16,
     "metadata": {},
     "output_type": "execute_result"
    },
    {
     "data": {
      "image/png": "[encoded data removed]",
      "text/plain": [
       "<Figure size 432x288 with 1 Axes>"
      ]
     },
     "metadata": {
      "needs_background": "light"
     },
     "output_type": "display_data"
    }
   ],
   "source": [
    "sns.countplot('Gender', data = df)\n",
    "df['Gender'].value_counts()"
   ]
  },
  {
   "cell_type": "markdown",
   "id": "8d88d1f5",
   "metadata": {},
   "source": [
    "Observation - There are 502 - Male and 112 - Female in our data who have taken loan. "
   ]
  },
  {
   "cell_type": "code",
   "execution_count": 17,
   "id": "ad249d27",
   "metadata": {},
   "outputs": [
    {
     "data": {
      "text/plain": [
       "1    401\n",
       "0    213\n",
       "Name: Married, dtype: int64"
      ]
     },
     "execution_count": 17,
     "metadata": {},
     "output_type": "execute_result"
    },
    {
     "data": {
      "image/png": "[encoded data removed]",
      "text/plain": [
       "<Figure size 432x288 with 1 Axes>"
      ]
     },
     "metadata": {
      "needs_background": "light"
     },
     "output_type": "display_data"
    }
   ],
   "source": [
    "sns.countplot('Married', data = df)\n",
    "df['Married'].value_counts()"
   ]
  },
  {
   "cell_type": "markdown",
   "id": "7c4d487e",
   "metadata": {},
   "source": [
    "Out of 614 people who have taken loan 401 are married and 213 are unmarried."
   ]
  },
  {
   "cell_type": "code",
   "execution_count": 18,
   "id": "41b63591",
   "metadata": {},
   "outputs": [
    {
     "data": {
      "text/plain": [
       "0.0    360\n",
       "1.0    102\n",
       "2.0    101\n",
       "3.0     51\n",
       "Name: Dependents, dtype: int64"
      ]
     },
     "execution_count": 18,
     "metadata": {},
     "output_type": "execute_result"
    },
    {
     "data": {
      "image/png": "[encoded data removed]",
      "text/plain": [
       "<Figure size 432x288 with 1 Axes>"
      ]
     },
     "metadata": {
      "needs_background": "light"
     },
     "output_type": "display_data"
    }
   ],
   "source": [
    "sns.countplot('Dependents', data = df)\n",
    "df['Dependents'].value_counts()"
   ]
  },
  {
   "cell_type": "markdown",
   "id": "4fc160f6",
   "metadata": {},
   "source": [
    "Majority of people (360 people) only have 1 dependent, while 102, 101 and 51 people have 1,2 and more than 3 dependents respectively."
   ]
  },
  {
   "cell_type": "code",
   "execution_count": 19,
   "id": "c1f13eaf",
   "metadata": {},
   "outputs": [
    {
     "data": {
      "text/plain": [
       "0    480\n",
       "1    134\n",
       "Name: Education, dtype: int64"
      ]
     },
     "execution_count": 19,
     "metadata": {},
     "output_type": "execute_result"
    },
    {
     "data": {
      "image/png": "[encoded data removed]",
      "text/plain": [
       "<Figure size 432x288 with 1 Axes>"
      ]
     },
     "metadata": {
      "needs_background": "light"
     },
     "output_type": "display_data"
    }
   ],
   "source": [
    "sns.countplot('Education', data = df)\n",
    "df['Education'].value_counts()"
   ]
  },
  {
   "cell_type": "markdown",
   "id": "32de846d",
   "metadata": {},
   "source": [
    "Out of 614 people 480 people are Gratuate and 134 are non graduate."
   ]
  },
  {
   "cell_type": "code",
   "execution_count": 20,
   "id": "7a7d9066",
   "metadata": {},
   "outputs": [
    {
     "data": {
      "text/plain": [
       "0    532\n",
       "1     82\n",
       "Name: Self_Employed, dtype: int64"
      ]
     },
     "execution_count": 20,
     "metadata": {},
     "output_type": "execute_result"
    },
    {
     "data": {
      "image/png": "[encoded data removed]",
      "text/plain": [
       "<Figure size 432x288 with 1 Axes>"
      ]
     },
     "metadata": {
      "needs_background": "light"
     },
     "output_type": "display_data"
    }
   ],
   "source": [
    "sns.countplot('Self_Employed', data = df)\n",
    "df['Self_Employed'].value_counts()"
   ]
  },
  {
   "cell_type": "markdown",
   "id": "3d32f22b",
   "metadata": {},
   "source": [
    "Out of 614 are 82 are self employed while majority of people are in job."
   ]
  },
  {
   "cell_type": "code",
   "execution_count": 21,
   "id": "951ef839",
   "metadata": {},
   "outputs": [
    {
     "data": {
      "text/plain": [
       "360.0    526\n",
       "180.0     44\n",
       "480.0     15\n",
       "300.0     13\n",
       "240.0      4\n",
       "84.0       4\n",
       "120.0      3\n",
       "60.0       2\n",
       "36.0       2\n",
       "12.0       1\n",
       "Name: Loan_Amount_Term, dtype: int64"
      ]
     },
     "execution_count": 21,
     "metadata": {},
     "output_type": "execute_result"
    },
    {
     "data": {
      "image/png": "[encoded data removed]",
      "text/plain": [
       "<Figure size 432x288 with 1 Axes>"
      ]
     },
     "metadata": {
      "needs_background": "light"
     },
     "output_type": "display_data"
    }
   ],
   "source": [
    "sns.countplot('Loan_Amount_Term', data = df)\n",
    "df['Loan_Amount_Term'].value_counts()"
   ]
  },
  {
   "cell_type": "markdown",
   "id": "457c4b6f",
   "metadata": {},
   "source": [
    "Mostly loan tenure is of 360 months which is 3 years."
   ]
  },
  {
   "cell_type": "markdown",
   "id": "7a484997",
   "metadata": {},
   "source": [
    "### Visualizing with target column."
   ]
  },
  {
   "cell_type": "code",
   "execution_count": 22,
   "id": "fcc65a5a",
   "metadata": {},
   "outputs": [
    {
     "data": {
      "image/png": "[encoded data removed]",
      "text/plain": [
       "<Figure size 432x288 with 1 Axes>"
      ]
     },
     "metadata": {
      "needs_background": "light"
     },
     "output_type": "display_data"
    }
   ],
   "source": [
    "sns.countplot( x = 'Gender', data = df , hue = 'Loan_Status')\n",
    "plt.show ()"
   ]
  },
  {
   "cell_type": "markdown",
   "id": "e3f638db",
   "metadata": {},
   "source": [
    "Out of 112 female approx 80 recieved loan and 32 didn't receive loan. Out of 502 male approx 350 male received loan and remaining didnt receive loan."
   ]
  },
  {
   "cell_type": "code",
   "execution_count": 23,
   "id": "75198957",
   "metadata": {},
   "outputs": [
    {
     "data": {
      "image/png": "[encoded data removed]",
      "text/plain": [
       "<Figure size 432x288 with 1 Axes>"
      ]
     },
     "metadata": {
      "needs_background": "light"
     },
     "output_type": "display_data"
    }
   ],
   "source": [
    "sns.countplot( x = 'Education', data = df , hue = 'Loan_Status')\n",
    "plt.show ()"
   ]
  },
  {
   "cell_type": "code",
   "execution_count": 24,
   "id": "9d3180c7",
   "metadata": {},
   "outputs": [
    {
     "data": {
      "image/png": "[encoded data removed]",
      "text/plain": [
       "<Figure size 432x288 with 1 Axes>"
      ]
     },
     "metadata": {
      "needs_background": "light"
     },
     "output_type": "display_data"
    }
   ],
   "source": [
    "sns.countplot( x = 'Dependents', data = df , hue = 'Loan_Status')\n",
    "plt.show ()"
   ]
  },
  {
   "cell_type": "code",
   "execution_count": 25,
   "id": "b3407c7c",
   "metadata": {},
   "outputs": [
    {
     "data": {
      "image/png": "[encoded data removed]",
      "text/plain": [
       "<Figure size 432x288 with 1 Axes>"
      ]
     },
     "metadata": {
      "needs_background": "light"
     },
     "output_type": "display_data"
    }
   ],
   "source": [
    "sns.countplot( x = 'Self_Employed', data = df , hue = 'Loan_Status')\n",
    "plt.show ()"
   ]
  },
  {
   "cell_type": "code",
   "execution_count": 26,
   "id": "47ccf9b8",
   "metadata": {},
   "outputs": [
    {
     "data": {
      "image/png": "[encoded data removed]",
      "text/plain": [
       "<Figure size 432x288 with 1 Axes>"
      ]
     },
     "metadata": {
      "needs_background": "light"
     },
     "output_type": "display_data"
    }
   ],
   "source": [
    "sns.countplot( x = 'Property_Area', data = df , hue = 'Loan_Status')\n",
    "plt.show ()"
   ]
  },
  {
   "cell_type": "code",
   "execution_count": 27,
   "id": "d960794a",
   "metadata": {},
   "outputs": [
    {
     "data": {
      "image/png": "[encoded data removed]",
      "text/plain": [
       "<Figure size 432x288 with 1 Axes>"
      ]
     },
     "metadata": {
      "needs_background": "light"
     },
     "output_type": "display_data"
    }
   ],
   "source": [
    "sns.countplot( x = 'Credit_History', data = df , hue = 'Loan_Status')\n",
    "plt.show ()"
   ]
  },
  {
   "cell_type": "code",
   "execution_count": 28,
   "id": "6d6e0836",
   "metadata": {},
   "outputs": [
    {
     "data": {
      "image/png": "[encoded data removed]",
      "text/plain": [
       "<Figure size 572.625x504 with 1 Axes>"
      ]
     },
     "metadata": {
      "needs_background": "light"
     },
     "output_type": "display_data"
    }
   ],
   "source": [
    "sns.relplot( x = 'LoanAmount' , y= 'ApplicantIncome',data = df , hue = 'Loan_Status', s = 100, height = 7)\n",
    "plt.show ()"
   ]
  },
  {
   "cell_type": "markdown",
   "id": "a4e6340e",
   "metadata": {},
   "source": [
    "Loan amount is directly related to income of the application, where income increase loan amount also increase in same propotion."
   ]
  },
  {
   "cell_type": "markdown",
   "id": "7c3aa174",
   "metadata": {},
   "source": [
    "### Lets check skewness of our data"
   ]
  },
  {
   "cell_type": "code",
   "execution_count": 29,
   "id": "b96e122e",
   "metadata": {},
   "outputs": [
    {
     "data": {
      "image/png": "[encoded data removed]",
      "text/plain": [
       "<Figure size 1440x2160 with 12 Axes>"
      ]
     },
     "metadata": {
      "needs_background": "light"
     },
     "output_type": "display_data"
    }
   ],
   "source": [
    "# lETS SEE HOW DATA IS DISTRIBUTED FOR EVERY COLUMN\n",
    "plt.figure(figsize = (20,30))\n",
    "plotnumber = 1\n",
    "\n",
    "for column in df:\n",
    "    if plotnumber <= 14:\n",
    "        ax = plt.subplot(5,3, plotnumber)\n",
    "        sns.distplot (df[column], color = 'black')\n",
    "        plt.xlabel(column,fontsize = 20)\n",
    "    plotnumber +=1\n",
    "plt.show()"
   ]
  },
  {
   "cell_type": "markdown",
   "id": "550edaf9",
   "metadata": {},
   "source": [
    "### Checking outliers"
   ]
  },
  {
   "cell_type": "code",
   "execution_count": 30,
   "id": "7006048f",
   "metadata": {},
   "outputs": [
    {
     "data": {
      "image/png": "[encoded data removed]",
      "text/plain": [
       "<Figure size 1440x1800 with 12 Axes>"
      ]
     },
     "metadata": {
      "needs_background": "light"
     },
     "output_type": "display_data"
    }
   ],
   "source": [
    "# Visualizing the outliers using boxplot\n",
    "\n",
    "plt.figure (figsize = (20,25))\n",
    "graph = 1\n",
    "for column in df:\n",
    "    if graph <= 14:\n",
    "        plt.subplot(5,3, graph)\n",
    "        ax = sns.boxplot (data = df[column])\n",
    "        plt.xlabel (column, fontsize = 15)\n",
    "    graph +=1\n",
    "plt.show ()"
   ]
  },
  {
   "cell_type": "markdown",
   "id": "cf81041a",
   "metadata": {},
   "source": [
    "### Observation\n",
    "===========================================================================================================================\n",
    "1. Applicant income,Coapplication income, Loan amount and Loan amount term columsn have to many outliers.\n",
    "2. There are columns Gender, Education, Self Employed and creadit history only have 2 outcomes so it doesnt have outliers.\n",
    "3. We will further remove outlier of columns using Z-Score method.\n",
    "\n",
    "=========================================================================================================================="
   ]
  },
  {
   "cell_type": "markdown",
   "id": "79b597d5",
   "metadata": {},
   "source": [
    "## Removing Outliers\n",
    "\n",
    "### Z - Score"
   ]
  },
  {
   "cell_type": "code",
   "execution_count": 31,
   "id": "7bc8e996",
   "metadata": {},
   "outputs": [
    {
     "data": {
      "text/plain": [
       "Gender                True\n",
       "Married               True\n",
       "Dependents            True\n",
       "Education             True\n",
       "Self_Employed         True\n",
       "ApplicantIncome      False\n",
       "CoapplicantIncome    False\n",
       "LoanAmount           False\n",
       "Loan_Amount_Term      True\n",
       "Credit_History        True\n",
       "Property_Area         True\n",
       "Loan_Status           True\n",
       "dtype: bool"
      ]
     },
     "execution_count": 31,
     "metadata": {},
     "output_type": "execute_result"
    }
   ],
   "source": [
    "# \n",
    "(np.abs(zscore(df)<3)).all()"
   ]
  },
  {
   "cell_type": "code",
   "execution_count": 32,
   "id": "75663f4c",
   "metadata": {},
   "outputs": [
    {
     "data": {
      "text/plain": [
       "(array([  0,   0,   0, ..., 613, 613, 613], dtype=int64),\n",
       " array([ 0,  1,  2, ...,  9, 10, 11], dtype=int64))"
      ]
     },
     "execution_count": 32,
     "metadata": {},
     "output_type": "execute_result"
    }
   ],
   "source": [
    "scores = np.abs(zscore(df))\n",
    "t = 3\n",
    "np.where(scores<3)"
   ]
  },
  {
   "cell_type": "code",
   "execution_count": 33,
   "id": "dd018a18",
   "metadata": {},
   "outputs": [
    {
     "name": "stdout",
     "output_type": "stream",
     "text": [
      "(614, 12)\n",
      "(577, 12)\n"
     ]
    }
   ],
   "source": [
    "# Checking data shape before and after removing outliers\n",
    "\n",
    "new_df = df[(scores<3).all(axis=1)]\n",
    "print(df.shape)\n",
    "print(new_df.shape)"
   ]
  },
  {
   "cell_type": "code",
   "execution_count": 34,
   "id": "bd69e3d7",
   "metadata": {},
   "outputs": [
    {
     "name": "stdout",
     "output_type": "stream",
     "text": [
      "DATA LOSS =  6.026058631921824 %\n"
     ]
    }
   ],
   "source": [
    "# Checking Data Loss percentage.\n",
    "dataloss = (614-577)*100/614\n",
    "print ('DATA LOSS = ', dataloss, '%')"
   ]
  },
  {
   "cell_type": "markdown",
   "id": "b8809e2a",
   "metadata": {},
   "source": [
    "### Correlation of DATA"
   ]
  },
  {
   "cell_type": "code",
   "execution_count": 35,
   "id": "e60205c6",
   "metadata": {},
   "outputs": [
    {
     "data": {
      "text/html": [
       "<div>\n",
       "<style scoped>\n",
       "    .dataframe tbody tr th:only-of-type {\n",
       "        vertical-align: middle;\n",
       "    }\n",
       "\n",
       "    .dataframe tbody tr th {\n",
       "        vertical-align: top;\n",
       "    }\n",
       "\n",
       "    .dataframe thead th {\n",
       "        text-align: right;\n",
       "    }\n",
       "</style>\n",
       "<table border=\"1\" class=\"dataframe\">\n",
       "  <thead>\n",
       "    <tr style=\"text-align: right;\">\n",
       "      <th></th>\n",
       "      <th>Gender</th>\n",
       "      <th>Married</th>\n",
       "      <th>Dependents</th>\n",
       "      <th>Education</th>\n",
       "      <th>Self_Employed</th>\n",
       "      <th>ApplicantIncome</th>\n",
       "      <th>CoapplicantIncome</th>\n",
       "      <th>LoanAmount</th>\n",
       "      <th>Loan_Amount_Term</th>\n",
       "      <th>Credit_History</th>\n",
       "      <th>Property_Area</th>\n",
       "      <th>Loan_Status</th>\n",
       "    </tr>\n",
       "  </thead>\n",
       "  <tbody>\n",
       "    <tr>\n",
       "      <th>Gender</th>\n",
       "      <td>1.000000</td>\n",
       "      <td>0.378997</td>\n",
       "      <td>0.188162</td>\n",
       "      <td>0.045696</td>\n",
       "      <td>-0.006207</td>\n",
       "      <td>0.026943</td>\n",
       "      <td>0.190543</td>\n",
       "      <td>0.158431</td>\n",
       "      <td>-0.104983</td>\n",
       "      <td>0.013172</td>\n",
       "      <td>-0.026340</td>\n",
       "      <td>0.017408</td>\n",
       "    </tr>\n",
       "    <tr>\n",
       "      <th>Married</th>\n",
       "      <td>0.378997</td>\n",
       "      <td>1.000000</td>\n",
       "      <td>0.329900</td>\n",
       "      <td>0.024817</td>\n",
       "      <td>-0.015779</td>\n",
       "      <td>-0.008567</td>\n",
       "      <td>0.237322</td>\n",
       "      <td>0.164365</td>\n",
       "      <td>-0.127348</td>\n",
       "      <td>0.019308</td>\n",
       "      <td>0.010595</td>\n",
       "      <td>0.089026</td>\n",
       "    </tr>\n",
       "    <tr>\n",
       "      <th>Dependents</th>\n",
       "      <td>0.188162</td>\n",
       "      <td>0.329900</td>\n",
       "      <td>1.000000</td>\n",
       "      <td>0.069814</td>\n",
       "      <td>0.044543</td>\n",
       "      <td>0.077227</td>\n",
       "      <td>-0.026220</td>\n",
       "      <td>0.135554</td>\n",
       "      <td>-0.087389</td>\n",
       "      <td>-0.020288</td>\n",
       "      <td>0.002327</td>\n",
       "      <td>0.017872</td>\n",
       "    </tr>\n",
       "    <tr>\n",
       "      <th>Education</th>\n",
       "      <td>0.045696</td>\n",
       "      <td>0.024817</td>\n",
       "      <td>0.069814</td>\n",
       "      <td>1.000000</td>\n",
       "      <td>-0.007139</td>\n",
       "      <td>-0.166400</td>\n",
       "      <td>-0.037780</td>\n",
       "      <td>-0.149369</td>\n",
       "      <td>-0.090523</td>\n",
       "      <td>-0.075217</td>\n",
       "      <td>-0.068596</td>\n",
       "      <td>-0.092658</td>\n",
       "    </tr>\n",
       "    <tr>\n",
       "      <th>Self_Employed</th>\n",
       "      <td>-0.006207</td>\n",
       "      <td>-0.015779</td>\n",
       "      <td>0.044543</td>\n",
       "      <td>-0.007139</td>\n",
       "      <td>1.000000</td>\n",
       "      <td>0.250665</td>\n",
       "      <td>-0.039572</td>\n",
       "      <td>0.121562</td>\n",
       "      <td>-0.032914</td>\n",
       "      <td>-0.016390</td>\n",
       "      <td>-0.028253</td>\n",
       "      <td>-0.026525</td>\n",
       "    </tr>\n",
       "    <tr>\n",
       "      <th>ApplicantIncome</th>\n",
       "      <td>0.026943</td>\n",
       "      <td>-0.008567</td>\n",
       "      <td>0.077227</td>\n",
       "      <td>-0.166400</td>\n",
       "      <td>0.250665</td>\n",
       "      <td>1.000000</td>\n",
       "      <td>-0.220975</td>\n",
       "      <td>0.439526</td>\n",
       "      <td>-0.052101</td>\n",
       "      <td>0.036664</td>\n",
       "      <td>-0.003641</td>\n",
       "      <td>-0.005003</td>\n",
       "    </tr>\n",
       "    <tr>\n",
       "      <th>CoapplicantIncome</th>\n",
       "      <td>0.190543</td>\n",
       "      <td>0.237322</td>\n",
       "      <td>-0.026220</td>\n",
       "      <td>-0.037780</td>\n",
       "      <td>-0.039572</td>\n",
       "      <td>-0.220975</td>\n",
       "      <td>1.000000</td>\n",
       "      <td>0.312426</td>\n",
       "      <td>-0.058726</td>\n",
       "      <td>-0.011102</td>\n",
       "      <td>-0.093505</td>\n",
       "      <td>0.045009</td>\n",
       "    </tr>\n",
       "    <tr>\n",
       "      <th>LoanAmount</th>\n",
       "      <td>0.158431</td>\n",
       "      <td>0.164365</td>\n",
       "      <td>0.135554</td>\n",
       "      <td>-0.149369</td>\n",
       "      <td>0.121562</td>\n",
       "      <td>0.439526</td>\n",
       "      <td>0.312426</td>\n",
       "      <td>1.000000</td>\n",
       "      <td>0.039696</td>\n",
       "      <td>0.009694</td>\n",
       "      <td>-0.078882</td>\n",
       "      <td>-0.030169</td>\n",
       "    </tr>\n",
       "    <tr>\n",
       "      <th>Loan_Amount_Term</th>\n",
       "      <td>-0.104983</td>\n",
       "      <td>-0.127348</td>\n",
       "      <td>-0.087389</td>\n",
       "      <td>-0.090523</td>\n",
       "      <td>-0.032914</td>\n",
       "      <td>-0.052101</td>\n",
       "      <td>-0.058726</td>\n",
       "      <td>0.039696</td>\n",
       "      <td>1.000000</td>\n",
       "      <td>0.027392</td>\n",
       "      <td>-0.057004</td>\n",
       "      <td>-0.020291</td>\n",
       "    </tr>\n",
       "    <tr>\n",
       "      <th>Credit_History</th>\n",
       "      <td>0.013172</td>\n",
       "      <td>0.019308</td>\n",
       "      <td>-0.020288</td>\n",
       "      <td>-0.075217</td>\n",
       "      <td>-0.016390</td>\n",
       "      <td>0.036664</td>\n",
       "      <td>-0.011102</td>\n",
       "      <td>0.009694</td>\n",
       "      <td>0.027392</td>\n",
       "      <td>1.000000</td>\n",
       "      <td>-0.008121</td>\n",
       "      <td>0.560936</td>\n",
       "    </tr>\n",
       "    <tr>\n",
       "      <th>Property_Area</th>\n",
       "      <td>-0.026340</td>\n",
       "      <td>0.010595</td>\n",
       "      <td>0.002327</td>\n",
       "      <td>-0.068596</td>\n",
       "      <td>-0.028253</td>\n",
       "      <td>-0.003641</td>\n",
       "      <td>-0.093505</td>\n",
       "      <td>-0.078882</td>\n",
       "      <td>-0.057004</td>\n",
       "      <td>-0.008121</td>\n",
       "      <td>1.000000</td>\n",
       "      <td>0.026507</td>\n",
       "    </tr>\n",
       "    <tr>\n",
       "      <th>Loan_Status</th>\n",
       "      <td>0.017408</td>\n",
       "      <td>0.089026</td>\n",
       "      <td>0.017872</td>\n",
       "      <td>-0.092658</td>\n",
       "      <td>-0.026525</td>\n",
       "      <td>-0.005003</td>\n",
       "      <td>0.045009</td>\n",
       "      <td>-0.030169</td>\n",
       "      <td>-0.020291</td>\n",
       "      <td>0.560936</td>\n",
       "      <td>0.026507</td>\n",
       "      <td>1.000000</td>\n",
       "    </tr>\n",
       "  </tbody>\n",
       "</table>\n",
       "</div>"
      ],
      "text/plain": [
       "                     Gender   Married  Dependents  Education  Self_Employed  \\\n",
       "Gender             1.000000  0.378997    0.188162   0.045696      -0.006207   \n",
       "Married            0.378997  1.000000    0.329900   0.024817      -0.015779   \n",
       "Dependents         0.188162  0.329900    1.000000   0.069814       0.044543   \n",
       "Education          0.045696  0.024817    0.069814   1.000000      -0.007139   \n",
       "Self_Employed     -0.006207 -0.015779    0.044543  -0.007139       1.000000   \n",
       "ApplicantIncome    0.026943 -0.008567    0.077227  -0.166400       0.250665   \n",
       "CoapplicantIncome  0.190543  0.237322   -0.026220  -0.037780      -0.039572   \n",
       "LoanAmount         0.158431  0.164365    0.135554  -0.149369       0.121562   \n",
       "Loan_Amount_Term  -0.104983 -0.127348   -0.087389  -0.090523      -0.032914   \n",
       "Credit_History     0.013172  0.019308   -0.020288  -0.075217      -0.016390   \n",
       "Property_Area     -0.026340  0.010595    0.002327  -0.068596      -0.028253   \n",
       "Loan_Status        0.017408  0.089026    0.017872  -0.092658      -0.026525   \n",
       "\n",
       "                   ApplicantIncome  CoapplicantIncome  LoanAmount  \\\n",
       "Gender                    0.026943           0.190543    0.158431   \n",
       "Married                  -0.008567           0.237322    0.164365   \n",
       "Dependents                0.077227          -0.026220    0.135554   \n",
       "Education                -0.166400          -0.037780   -0.149369   \n",
       "Self_Employed             0.250665          -0.039572    0.121562   \n",
       "ApplicantIncome           1.000000          -0.220975    0.439526   \n",
       "CoapplicantIncome        -0.220975           1.000000    0.312426   \n",
       "LoanAmount                0.439526           0.312426    1.000000   \n",
       "Loan_Amount_Term         -0.052101          -0.058726    0.039696   \n",
       "Credit_History            0.036664          -0.011102    0.009694   \n",
       "Property_Area            -0.003641          -0.093505   -0.078882   \n",
       "Loan_Status              -0.005003           0.045009   -0.030169   \n",
       "\n",
       "                   Loan_Amount_Term  Credit_History  Property_Area  \\\n",
       "Gender                    -0.104983        0.013172      -0.026340   \n",
       "Married                   -0.127348        0.019308       0.010595   \n",
       "Dependents                -0.087389       -0.020288       0.002327   \n",
       "Education                 -0.090523       -0.075217      -0.068596   \n",
       "Self_Employed             -0.032914       -0.016390      -0.028253   \n",
       "ApplicantIncome           -0.052101        0.036664      -0.003641   \n",
       "CoapplicantIncome         -0.058726       -0.011102      -0.093505   \n",
       "LoanAmount                 0.039696        0.009694      -0.078882   \n",
       "Loan_Amount_Term           1.000000        0.027392      -0.057004   \n",
       "Credit_History             0.027392        1.000000      -0.008121   \n",
       "Property_Area             -0.057004       -0.008121       1.000000   \n",
       "Loan_Status               -0.020291        0.560936       0.026507   \n",
       "\n",
       "                   Loan_Status  \n",
       "Gender                0.017408  \n",
       "Married               0.089026  \n",
       "Dependents            0.017872  \n",
       "Education            -0.092658  \n",
       "Self_Employed        -0.026525  \n",
       "ApplicantIncome      -0.005003  \n",
       "CoapplicantIncome     0.045009  \n",
       "LoanAmount           -0.030169  \n",
       "Loan_Amount_Term     -0.020291  \n",
       "Credit_History        0.560936  \n",
       "Property_Area         0.026507  \n",
       "Loan_Status           1.000000  "
      ]
     },
     "execution_count": 35,
     "metadata": {},
     "output_type": "execute_result"
    }
   ],
   "source": [
    "new_df.corr()"
   ]
  },
  {
   "cell_type": "code",
   "execution_count": 36,
   "id": "0d56e10e",
   "metadata": {},
   "outputs": [
    {
     "data": {
      "image/png": "[encoded data removed]",
      "text/plain": [
       "<Figure size 1440x1080 with 2 Axes>"
      ]
     },
     "metadata": {
      "needs_background": "light"
     },
     "output_type": "display_data"
    }
   ],
   "source": [
    "# Ploting heatmap to check correlation of our data\n",
    "\n",
    "plt.figure (figsize = (20,15))\n",
    "plt.title('Correlation HeatMap', fontsize = 15)\n",
    "sns.heatmap(new_df.corr(), annot = True , linewidths = 4, linecolor='black',fmt='.2f')\n",
    "plt.show()"
   ]
  },
  {
   "cell_type": "code",
   "execution_count": 37,
   "id": "f60715c8",
   "metadata": {},
   "outputs": [
    {
     "data": {
      "image/png": "[encoded data removed]",
      "text/plain": [
       "<Figure size 1080x576 with 1 Axes>"
      ]
     },
     "metadata": {
      "needs_background": "light"
     },
     "output_type": "display_data"
    }
   ],
   "source": [
    "# Checking correlation of all features with income\n",
    "\n",
    "plt.figure(figsize = (15,8))\n",
    "new_df.corr()['Loan_Status'].sort_values(ascending=False).drop(['Loan_Status']).plot.bar()\n",
    "plt.xlabel(\"Feature\", fontsize = 14)\n",
    "plt.ylabel(\"correlation with Loan_Status\", fontsize = 18)\n",
    "plt.title (\"Correction of all features with Loan_Status\", fontsize = 25)\n",
    "plt.show()"
   ]
  },
  {
   "cell_type": "markdown",
   "id": "41e5d962",
   "metadata": {},
   "source": [
    "### Observation\n",
    "===========================================================================================================================\n",
    "1. Credit_history is most positively correlation with our targe variable. (Loan Status)\n",
    "2. Column 'Loan amount term', 'Sefl employed', 'loan amount' and education are inversly propotional to loan status\n",
    "3. Marriage coapplication inoce property area are also positively related with our target column.\n",
    "\n",
    "==========================================================================================================================="
   ]
  },
  {
   "cell_type": "markdown",
   "id": "0921e215",
   "metadata": {},
   "source": [
    "### Removing Skewness"
   ]
  },
  {
   "cell_type": "code",
   "execution_count": 38,
   "id": "2cd0ceae",
   "metadata": {},
   "outputs": [
    {
     "data": {
      "text/plain": [
       "Gender              -1.622920\n",
       "Married             -0.630211\n",
       "Dependents           1.052106\n",
       "Education            1.306588\n",
       "Self_Employed        2.252848\n",
       "ApplicantIncome      2.148522\n",
       "CoapplicantIncome    1.350517\n",
       "LoanAmount           1.151525\n",
       "Loan_Amount_Term    -2.098806\n",
       "Credit_History      -1.976043\n",
       "Property_Area       -0.055332\n",
       "Loan_Status         -0.822635\n",
       "dtype: float64"
      ]
     },
     "execution_count": 38,
     "metadata": {},
     "output_type": "execute_result"
    }
   ],
   "source": [
    "new_df.skew()"
   ]
  },
  {
   "cell_type": "code",
   "execution_count": 39,
   "id": "d6730425",
   "metadata": {},
   "outputs": [
    {
     "data": {
      "text/html": [
       "<div>\n",
       "<style scoped>\n",
       "    .dataframe tbody tr th:only-of-type {\n",
       "        vertical-align: middle;\n",
       "    }\n",
       "\n",
       "    .dataframe tbody tr th {\n",
       "        vertical-align: top;\n",
       "    }\n",
       "\n",
       "    .dataframe thead th {\n",
       "        text-align: right;\n",
       "    }\n",
       "</style>\n",
       "<table border=\"1\" class=\"dataframe\">\n",
       "  <thead>\n",
       "    <tr style=\"text-align: right;\">\n",
       "      <th></th>\n",
       "      <th>Gender</th>\n",
       "      <th>Married</th>\n",
       "      <th>Dependents</th>\n",
       "      <th>Education</th>\n",
       "      <th>Self_Employed</th>\n",
       "      <th>ApplicantIncome</th>\n",
       "      <th>CoapplicantIncome</th>\n",
       "      <th>LoanAmount</th>\n",
       "      <th>Loan_Amount_Term</th>\n",
       "      <th>Credit_History</th>\n",
       "      <th>Property_Area</th>\n",
       "    </tr>\n",
       "  </thead>\n",
       "  <tbody>\n",
       "    <tr>\n",
       "      <th>0</th>\n",
       "      <td>1</td>\n",
       "      <td>0</td>\n",
       "      <td>0.0</td>\n",
       "      <td>0</td>\n",
       "      <td>0</td>\n",
       "      <td>5849</td>\n",
       "      <td>0.0</td>\n",
       "      <td>128.0</td>\n",
       "      <td>360.0</td>\n",
       "      <td>1.0</td>\n",
       "      <td>2</td>\n",
       "    </tr>\n",
       "    <tr>\n",
       "      <th>1</th>\n",
       "      <td>1</td>\n",
       "      <td>1</td>\n",
       "      <td>1.0</td>\n",
       "      <td>0</td>\n",
       "      <td>0</td>\n",
       "      <td>4583</td>\n",
       "      <td>1508.0</td>\n",
       "      <td>128.0</td>\n",
       "      <td>360.0</td>\n",
       "      <td>1.0</td>\n",
       "      <td>0</td>\n",
       "    </tr>\n",
       "    <tr>\n",
       "      <th>2</th>\n",
       "      <td>1</td>\n",
       "      <td>1</td>\n",
       "      <td>0.0</td>\n",
       "      <td>0</td>\n",
       "      <td>1</td>\n",
       "      <td>3000</td>\n",
       "      <td>0.0</td>\n",
       "      <td>66.0</td>\n",
       "      <td>360.0</td>\n",
       "      <td>1.0</td>\n",
       "      <td>2</td>\n",
       "    </tr>\n",
       "    <tr>\n",
       "      <th>3</th>\n",
       "      <td>1</td>\n",
       "      <td>1</td>\n",
       "      <td>0.0</td>\n",
       "      <td>1</td>\n",
       "      <td>0</td>\n",
       "      <td>2583</td>\n",
       "      <td>2358.0</td>\n",
       "      <td>120.0</td>\n",
       "      <td>360.0</td>\n",
       "      <td>1.0</td>\n",
       "      <td>2</td>\n",
       "    </tr>\n",
       "    <tr>\n",
       "      <th>4</th>\n",
       "      <td>1</td>\n",
       "      <td>0</td>\n",
       "      <td>0.0</td>\n",
       "      <td>0</td>\n",
       "      <td>0</td>\n",
       "      <td>6000</td>\n",
       "      <td>0.0</td>\n",
       "      <td>141.0</td>\n",
       "      <td>360.0</td>\n",
       "      <td>1.0</td>\n",
       "      <td>2</td>\n",
       "    </tr>\n",
       "    <tr>\n",
       "      <th>...</th>\n",
       "      <td>...</td>\n",
       "      <td>...</td>\n",
       "      <td>...</td>\n",
       "      <td>...</td>\n",
       "      <td>...</td>\n",
       "      <td>...</td>\n",
       "      <td>...</td>\n",
       "      <td>...</td>\n",
       "      <td>...</td>\n",
       "      <td>...</td>\n",
       "      <td>...</td>\n",
       "    </tr>\n",
       "    <tr>\n",
       "      <th>609</th>\n",
       "      <td>0</td>\n",
       "      <td>0</td>\n",
       "      <td>0.0</td>\n",
       "      <td>0</td>\n",
       "      <td>0</td>\n",
       "      <td>2900</td>\n",
       "      <td>0.0</td>\n",
       "      <td>71.0</td>\n",
       "      <td>360.0</td>\n",
       "      <td>1.0</td>\n",
       "      <td>0</td>\n",
       "    </tr>\n",
       "    <tr>\n",
       "      <th>610</th>\n",
       "      <td>1</td>\n",
       "      <td>1</td>\n",
       "      <td>3.0</td>\n",
       "      <td>0</td>\n",
       "      <td>0</td>\n",
       "      <td>4106</td>\n",
       "      <td>0.0</td>\n",
       "      <td>40.0</td>\n",
       "      <td>180.0</td>\n",
       "      <td>1.0</td>\n",
       "      <td>0</td>\n",
       "    </tr>\n",
       "    <tr>\n",
       "      <th>611</th>\n",
       "      <td>1</td>\n",
       "      <td>1</td>\n",
       "      <td>1.0</td>\n",
       "      <td>0</td>\n",
       "      <td>0</td>\n",
       "      <td>8072</td>\n",
       "      <td>240.0</td>\n",
       "      <td>253.0</td>\n",
       "      <td>360.0</td>\n",
       "      <td>1.0</td>\n",
       "      <td>2</td>\n",
       "    </tr>\n",
       "    <tr>\n",
       "      <th>612</th>\n",
       "      <td>1</td>\n",
       "      <td>1</td>\n",
       "      <td>2.0</td>\n",
       "      <td>0</td>\n",
       "      <td>0</td>\n",
       "      <td>7583</td>\n",
       "      <td>0.0</td>\n",
       "      <td>187.0</td>\n",
       "      <td>360.0</td>\n",
       "      <td>1.0</td>\n",
       "      <td>2</td>\n",
       "    </tr>\n",
       "    <tr>\n",
       "      <th>613</th>\n",
       "      <td>0</td>\n",
       "      <td>0</td>\n",
       "      <td>0.0</td>\n",
       "      <td>0</td>\n",
       "      <td>1</td>\n",
       "      <td>4583</td>\n",
       "      <td>0.0</td>\n",
       "      <td>133.0</td>\n",
       "      <td>360.0</td>\n",
       "      <td>0.0</td>\n",
       "      <td>1</td>\n",
       "    </tr>\n",
       "  </tbody>\n",
       "</table>\n",
       "<p>577 rows × 11 columns</p>\n",
       "</div>"
      ],
      "text/plain": [
       "     Gender  Married  Dependents  Education  Self_Employed  ApplicantIncome  \\\n",
       "0         1        0         0.0          0              0             5849   \n",
       "1         1        1         1.0          0              0             4583   \n",
       "2         1        1         0.0          0              1             3000   \n",
       "3         1        1         0.0          1              0             2583   \n",
       "4         1        0         0.0          0              0             6000   \n",
       "..      ...      ...         ...        ...            ...              ...   \n",
       "609       0        0         0.0          0              0             2900   \n",
       "610       1        1         3.0          0              0             4106   \n",
       "611       1        1         1.0          0              0             8072   \n",
       "612       1        1         2.0          0              0             7583   \n",
       "613       0        0         0.0          0              1             4583   \n",
       "\n",
       "     CoapplicantIncome  LoanAmount  Loan_Amount_Term  Credit_History  \\\n",
       "0                  0.0       128.0             360.0             1.0   \n",
       "1               1508.0       128.0             360.0             1.0   \n",
       "2                  0.0        66.0             360.0             1.0   \n",
       "3               2358.0       120.0             360.0             1.0   \n",
       "4                  0.0       141.0             360.0             1.0   \n",
       "..                 ...         ...               ...             ...   \n",
       "609                0.0        71.0             360.0             1.0   \n",
       "610                0.0        40.0             180.0             1.0   \n",
       "611              240.0       253.0             360.0             1.0   \n",
       "612                0.0       187.0             360.0             1.0   \n",
       "613                0.0       133.0             360.0             0.0   \n",
       "\n",
       "     Property_Area  \n",
       "0                2  \n",
       "1                0  \n",
       "2                2  \n",
       "3                2  \n",
       "4                2  \n",
       "..             ...  \n",
       "609              0  \n",
       "610              0  \n",
       "611              2  \n",
       "612              2  \n",
       "613              1  \n",
       "\n",
       "[577 rows x 11 columns]"
      ]
     },
     "execution_count": 39,
     "metadata": {},
     "output_type": "execute_result"
    }
   ],
   "source": [
    "X=new_df.drop(\"Loan_Status\",axis=1)\n",
    "Y=new_df[\"Loan_Status\"]\n",
    "X # Checking data in X"
   ]
  },
  {
   "cell_type": "code",
   "execution_count": 40,
   "id": "56ee4593",
   "metadata": {},
   "outputs": [
    {
     "data": {
      "text/plain": [
       "0      1\n",
       "1      0\n",
       "2      1\n",
       "3      1\n",
       "4      1\n",
       "      ..\n",
       "609    1\n",
       "610    1\n",
       "611    1\n",
       "612    1\n",
       "613    0\n",
       "Name: Loan_Status, Length: 577, dtype: int32"
      ]
     },
     "execution_count": 40,
     "metadata": {},
     "output_type": "execute_result"
    }
   ],
   "source": [
    "# Checking DATA in y\n",
    "Y"
   ]
  },
  {
   "cell_type": "code",
   "execution_count": 41,
   "id": "e478c393",
   "metadata": {},
   "outputs": [],
   "source": [
    "# Removing skewness\n",
    "X_new= np.sqrt(X[X.columns])"
   ]
  },
  {
   "cell_type": "code",
   "execution_count": 42,
   "id": "8c58efb5",
   "metadata": {},
   "outputs": [
    {
     "data": {
      "text/html": [
       "<div>\n",
       "<style scoped>\n",
       "    .dataframe tbody tr th:only-of-type {\n",
       "        vertical-align: middle;\n",
       "    }\n",
       "\n",
       "    .dataframe tbody tr th {\n",
       "        vertical-align: top;\n",
       "    }\n",
       "\n",
       "    .dataframe thead th {\n",
       "        text-align: right;\n",
       "    }\n",
       "</style>\n",
       "<table border=\"1\" class=\"dataframe\">\n",
       "  <thead>\n",
       "    <tr style=\"text-align: right;\">\n",
       "      <th></th>\n",
       "      <th>Gender</th>\n",
       "      <th>Married</th>\n",
       "      <th>Dependents</th>\n",
       "      <th>Education</th>\n",
       "      <th>Self_Employed</th>\n",
       "      <th>ApplicantIncome</th>\n",
       "      <th>CoapplicantIncome</th>\n",
       "      <th>LoanAmount</th>\n",
       "      <th>Loan_Amount_Term</th>\n",
       "      <th>Credit_History</th>\n",
       "      <th>Property_Area</th>\n",
       "    </tr>\n",
       "  </thead>\n",
       "  <tbody>\n",
       "    <tr>\n",
       "      <th>0</th>\n",
       "      <td>1.0</td>\n",
       "      <td>0.0</td>\n",
       "      <td>0.000000</td>\n",
       "      <td>0.0</td>\n",
       "      <td>0.0</td>\n",
       "      <td>76.478755</td>\n",
       "      <td>0.000000</td>\n",
       "      <td>11.313708</td>\n",
       "      <td>18.973666</td>\n",
       "      <td>1.0</td>\n",
       "      <td>1.414214</td>\n",
       "    </tr>\n",
       "    <tr>\n",
       "      <th>1</th>\n",
       "      <td>1.0</td>\n",
       "      <td>1.0</td>\n",
       "      <td>1.000000</td>\n",
       "      <td>0.0</td>\n",
       "      <td>0.0</td>\n",
       "      <td>67.697858</td>\n",
       "      <td>38.832976</td>\n",
       "      <td>11.313708</td>\n",
       "      <td>18.973666</td>\n",
       "      <td>1.0</td>\n",
       "      <td>0.000000</td>\n",
       "    </tr>\n",
       "    <tr>\n",
       "      <th>2</th>\n",
       "      <td>1.0</td>\n",
       "      <td>1.0</td>\n",
       "      <td>0.000000</td>\n",
       "      <td>0.0</td>\n",
       "      <td>1.0</td>\n",
       "      <td>54.772256</td>\n",
       "      <td>0.000000</td>\n",
       "      <td>8.124038</td>\n",
       "      <td>18.973666</td>\n",
       "      <td>1.0</td>\n",
       "      <td>1.414214</td>\n",
       "    </tr>\n",
       "    <tr>\n",
       "      <th>3</th>\n",
       "      <td>1.0</td>\n",
       "      <td>1.0</td>\n",
       "      <td>0.000000</td>\n",
       "      <td>1.0</td>\n",
       "      <td>0.0</td>\n",
       "      <td>50.823223</td>\n",
       "      <td>48.559242</td>\n",
       "      <td>10.954451</td>\n",
       "      <td>18.973666</td>\n",
       "      <td>1.0</td>\n",
       "      <td>1.414214</td>\n",
       "    </tr>\n",
       "    <tr>\n",
       "      <th>4</th>\n",
       "      <td>1.0</td>\n",
       "      <td>0.0</td>\n",
       "      <td>0.000000</td>\n",
       "      <td>0.0</td>\n",
       "      <td>0.0</td>\n",
       "      <td>77.459667</td>\n",
       "      <td>0.000000</td>\n",
       "      <td>11.874342</td>\n",
       "      <td>18.973666</td>\n",
       "      <td>1.0</td>\n",
       "      <td>1.414214</td>\n",
       "    </tr>\n",
       "    <tr>\n",
       "      <th>...</th>\n",
       "      <td>...</td>\n",
       "      <td>...</td>\n",
       "      <td>...</td>\n",
       "      <td>...</td>\n",
       "      <td>...</td>\n",
       "      <td>...</td>\n",
       "      <td>...</td>\n",
       "      <td>...</td>\n",
       "      <td>...</td>\n",
       "      <td>...</td>\n",
       "      <td>...</td>\n",
       "    </tr>\n",
       "    <tr>\n",
       "      <th>609</th>\n",
       "      <td>0.0</td>\n",
       "      <td>0.0</td>\n",
       "      <td>0.000000</td>\n",
       "      <td>0.0</td>\n",
       "      <td>0.0</td>\n",
       "      <td>53.851648</td>\n",
       "      <td>0.000000</td>\n",
       "      <td>8.426150</td>\n",
       "      <td>18.973666</td>\n",
       "      <td>1.0</td>\n",
       "      <td>0.000000</td>\n",
       "    </tr>\n",
       "    <tr>\n",
       "      <th>610</th>\n",
       "      <td>1.0</td>\n",
       "      <td>1.0</td>\n",
       "      <td>1.732051</td>\n",
       "      <td>0.0</td>\n",
       "      <td>0.0</td>\n",
       "      <td>64.078077</td>\n",
       "      <td>0.000000</td>\n",
       "      <td>6.324555</td>\n",
       "      <td>13.416408</td>\n",
       "      <td>1.0</td>\n",
       "      <td>0.000000</td>\n",
       "    </tr>\n",
       "    <tr>\n",
       "      <th>611</th>\n",
       "      <td>1.0</td>\n",
       "      <td>1.0</td>\n",
       "      <td>1.000000</td>\n",
       "      <td>0.0</td>\n",
       "      <td>0.0</td>\n",
       "      <td>89.844310</td>\n",
       "      <td>15.491933</td>\n",
       "      <td>15.905974</td>\n",
       "      <td>18.973666</td>\n",
       "      <td>1.0</td>\n",
       "      <td>1.414214</td>\n",
       "    </tr>\n",
       "    <tr>\n",
       "      <th>612</th>\n",
       "      <td>1.0</td>\n",
       "      <td>1.0</td>\n",
       "      <td>1.414214</td>\n",
       "      <td>0.0</td>\n",
       "      <td>0.0</td>\n",
       "      <td>87.080423</td>\n",
       "      <td>0.000000</td>\n",
       "      <td>13.674794</td>\n",
       "      <td>18.973666</td>\n",
       "      <td>1.0</td>\n",
       "      <td>1.414214</td>\n",
       "    </tr>\n",
       "    <tr>\n",
       "      <th>613</th>\n",
       "      <td>0.0</td>\n",
       "      <td>0.0</td>\n",
       "      <td>0.000000</td>\n",
       "      <td>0.0</td>\n",
       "      <td>1.0</td>\n",
       "      <td>67.697858</td>\n",
       "      <td>0.000000</td>\n",
       "      <td>11.532563</td>\n",
       "      <td>18.973666</td>\n",
       "      <td>0.0</td>\n",
       "      <td>1.000000</td>\n",
       "    </tr>\n",
       "  </tbody>\n",
       "</table>\n",
       "<p>577 rows × 11 columns</p>\n",
       "</div>"
      ],
      "text/plain": [
       "     Gender  Married  Dependents  Education  Self_Employed  ApplicantIncome  \\\n",
       "0       1.0      0.0    0.000000        0.0            0.0        76.478755   \n",
       "1       1.0      1.0    1.000000        0.0            0.0        67.697858   \n",
       "2       1.0      1.0    0.000000        0.0            1.0        54.772256   \n",
       "3       1.0      1.0    0.000000        1.0            0.0        50.823223   \n",
       "4       1.0      0.0    0.000000        0.0            0.0        77.459667   \n",
       "..      ...      ...         ...        ...            ...              ...   \n",
       "609     0.0      0.0    0.000000        0.0            0.0        53.851648   \n",
       "610     1.0      1.0    1.732051        0.0            0.0        64.078077   \n",
       "611     1.0      1.0    1.000000        0.0            0.0        89.844310   \n",
       "612     1.0      1.0    1.414214        0.0            0.0        87.080423   \n",
       "613     0.0      0.0    0.000000        0.0            1.0        67.697858   \n",
       "\n",
       "     CoapplicantIncome  LoanAmount  Loan_Amount_Term  Credit_History  \\\n",
       "0             0.000000   11.313708         18.973666             1.0   \n",
       "1            38.832976   11.313708         18.973666             1.0   \n",
       "2             0.000000    8.124038         18.973666             1.0   \n",
       "3            48.559242   10.954451         18.973666             1.0   \n",
       "4             0.000000   11.874342         18.973666             1.0   \n",
       "..                 ...         ...               ...             ...   \n",
       "609           0.000000    8.426150         18.973666             1.0   \n",
       "610           0.000000    6.324555         13.416408             1.0   \n",
       "611          15.491933   15.905974         18.973666             1.0   \n",
       "612           0.000000   13.674794         18.973666             1.0   \n",
       "613           0.000000   11.532563         18.973666             0.0   \n",
       "\n",
       "     Property_Area  \n",
       "0         1.414214  \n",
       "1         0.000000  \n",
       "2         1.414214  \n",
       "3         1.414214  \n",
       "4         1.414214  \n",
       "..             ...  \n",
       "609       0.000000  \n",
       "610       0.000000  \n",
       "611       1.414214  \n",
       "612       1.414214  \n",
       "613       1.000000  \n",
       "\n",
       "[577 rows x 11 columns]"
      ]
     },
     "execution_count": 42,
     "metadata": {},
     "output_type": "execute_result"
    }
   ],
   "source": [
    "X_new"
   ]
  },
  {
   "cell_type": "code",
   "execution_count": 43,
   "id": "f0e7381f",
   "metadata": {},
   "outputs": [
    {
     "data": {
      "text/plain": [
       "array([[ 0.47713685, -1.36251079, -0.81649549, ...,  0.13076798,\n",
       "         0.41851254,  1.10166321],\n",
       "       [ 0.47713685,  0.73393914,  1.04393001, ...,  0.13076798,\n",
       "         0.41851254, -1.41497784],\n",
       "       [ 0.47713685,  0.73393914, -0.81649549, ...,  0.13076798,\n",
       "         0.41851254,  1.10166321],\n",
       "       ...,\n",
       "       [ 0.47713685,  0.73393914,  1.04393001, ...,  0.13076798,\n",
       "         0.41851254,  1.10166321],\n",
       "       [ 0.47713685,  0.73393914,  1.28826074, ...,  0.13076798,\n",
       "         0.41851254,  1.10166321],\n",
       "       [-2.09583477, -1.36251079, -0.81649549, ...,  0.13076798,\n",
       "        -2.38941464,  0.1555155 ]])"
      ]
     },
     "execution_count": 43,
     "metadata": {},
     "output_type": "execute_result"
    }
   ],
   "source": [
    "# Transforming data\n",
    "\n",
    "X_new=power_transform(X_new)   \n",
    "X_new"
   ]
  },
  {
   "cell_type": "markdown",
   "id": "89382feb",
   "metadata": {},
   "source": [
    "## Scaling data using Standard Scaler"
   ]
  },
  {
   "cell_type": "code",
   "execution_count": 44,
   "id": "0ed8cb80",
   "metadata": {},
   "outputs": [
    {
     "data": {
      "text/html": [
       "<div>\n",
       "<style scoped>\n",
       "    .dataframe tbody tr th:only-of-type {\n",
       "        vertical-align: middle;\n",
       "    }\n",
       "\n",
       "    .dataframe tbody tr th {\n",
       "        vertical-align: top;\n",
       "    }\n",
       "\n",
       "    .dataframe thead th {\n",
       "        text-align: right;\n",
       "    }\n",
       "</style>\n",
       "<table border=\"1\" class=\"dataframe\">\n",
       "  <thead>\n",
       "    <tr style=\"text-align: right;\">\n",
       "      <th></th>\n",
       "      <th>Gender</th>\n",
       "      <th>Married</th>\n",
       "      <th>Dependents</th>\n",
       "      <th>Education</th>\n",
       "      <th>Self_Employed</th>\n",
       "      <th>ApplicantIncome</th>\n",
       "      <th>CoapplicantIncome</th>\n",
       "      <th>LoanAmount</th>\n",
       "      <th>Loan_Amount_Term</th>\n",
       "      <th>Credit_History</th>\n",
       "      <th>Property_Area</th>\n",
       "    </tr>\n",
       "  </thead>\n",
       "  <tbody>\n",
       "    <tr>\n",
       "      <th>0</th>\n",
       "      <td>0.477137</td>\n",
       "      <td>-1.362511</td>\n",
       "      <td>-0.816495</td>\n",
       "      <td>-0.541961</td>\n",
       "      <td>-0.380580</td>\n",
       "      <td>0.683009</td>\n",
       "      <td>-1.123200</td>\n",
       "      <td>0.001339</td>\n",
       "      <td>0.130768</td>\n",
       "      <td>0.418513</td>\n",
       "      <td>1.101663</td>\n",
       "    </tr>\n",
       "    <tr>\n",
       "      <th>1</th>\n",
       "      <td>0.477137</td>\n",
       "      <td>0.733939</td>\n",
       "      <td>1.043930</td>\n",
       "      <td>-0.541961</td>\n",
       "      <td>-0.380580</td>\n",
       "      <td>0.236029</td>\n",
       "      <td>0.747018</td>\n",
       "      <td>0.001339</td>\n",
       "      <td>0.130768</td>\n",
       "      <td>0.418513</td>\n",
       "      <td>-1.414978</td>\n",
       "    </tr>\n",
       "    <tr>\n",
       "      <th>2</th>\n",
       "      <td>0.477137</td>\n",
       "      <td>0.733939</td>\n",
       "      <td>-0.816495</td>\n",
       "      <td>-0.541961</td>\n",
       "      <td>2.627567</td>\n",
       "      <td>-0.527023</td>\n",
       "      <td>-1.123200</td>\n",
       "      <td>-1.437842</td>\n",
       "      <td>0.130768</td>\n",
       "      <td>0.418513</td>\n",
       "      <td>1.101663</td>\n",
       "    </tr>\n",
       "    <tr>\n",
       "      <th>3</th>\n",
       "      <td>0.477137</td>\n",
       "      <td>0.733939</td>\n",
       "      <td>-0.816495</td>\n",
       "      <td>1.845150</td>\n",
       "      <td>-0.380580</td>\n",
       "      <td>-0.792426</td>\n",
       "      <td>0.895177</td>\n",
       "      <td>-0.152993</td>\n",
       "      <td>0.130768</td>\n",
       "      <td>0.418513</td>\n",
       "      <td>1.101663</td>\n",
       "    </tr>\n",
       "    <tr>\n",
       "      <th>4</th>\n",
       "      <td>0.477137</td>\n",
       "      <td>-1.362511</td>\n",
       "      <td>-0.816495</td>\n",
       "      <td>-0.541961</td>\n",
       "      <td>-0.380580</td>\n",
       "      <td>0.730044</td>\n",
       "      <td>-1.123200</td>\n",
       "      <td>0.238804</td>\n",
       "      <td>0.130768</td>\n",
       "      <td>0.418513</td>\n",
       "      <td>1.101663</td>\n",
       "    </tr>\n",
       "    <tr>\n",
       "      <th>...</th>\n",
       "      <td>...</td>\n",
       "      <td>...</td>\n",
       "      <td>...</td>\n",
       "      <td>...</td>\n",
       "      <td>...</td>\n",
       "      <td>...</td>\n",
       "      <td>...</td>\n",
       "      <td>...</td>\n",
       "      <td>...</td>\n",
       "      <td>...</td>\n",
       "      <td>...</td>\n",
       "    </tr>\n",
       "    <tr>\n",
       "      <th>572</th>\n",
       "      <td>-2.095835</td>\n",
       "      <td>-1.362511</td>\n",
       "      <td>-0.816495</td>\n",
       "      <td>-0.541961</td>\n",
       "      <td>-0.380580</td>\n",
       "      <td>-0.587331</td>\n",
       "      <td>-1.123200</td>\n",
       "      <td>-1.294098</td>\n",
       "      <td>0.130768</td>\n",
       "      <td>0.418513</td>\n",
       "      <td>-1.414978</td>\n",
       "    </tr>\n",
       "    <tr>\n",
       "      <th>573</th>\n",
       "      <td>0.477137</td>\n",
       "      <td>0.733939</td>\n",
       "      <td>1.414106</td>\n",
       "      <td>-0.541961</td>\n",
       "      <td>-0.380580</td>\n",
       "      <td>0.036476</td>\n",
       "      <td>-1.123200</td>\n",
       "      <td>-2.335004</td>\n",
       "      <td>-2.563235</td>\n",
       "      <td>0.418513</td>\n",
       "      <td>-1.414978</td>\n",
       "    </tr>\n",
       "    <tr>\n",
       "      <th>574</th>\n",
       "      <td>0.477137</td>\n",
       "      <td>0.733939</td>\n",
       "      <td>1.043930</td>\n",
       "      <td>-0.541961</td>\n",
       "      <td>-0.380580</td>\n",
       "      <td>1.281968</td>\n",
       "      <td>0.197613</td>\n",
       "      <td>1.843626</td>\n",
       "      <td>0.130768</td>\n",
       "      <td>0.418513</td>\n",
       "      <td>1.101663</td>\n",
       "    </tr>\n",
       "    <tr>\n",
       "      <th>575</th>\n",
       "      <td>0.477137</td>\n",
       "      <td>0.733939</td>\n",
       "      <td>1.288261</td>\n",
       "      <td>-0.541961</td>\n",
       "      <td>-0.380580</td>\n",
       "      <td>1.165002</td>\n",
       "      <td>-1.123200</td>\n",
       "      <td>0.976112</td>\n",
       "      <td>0.130768</td>\n",
       "      <td>0.418513</td>\n",
       "      <td>1.101663</td>\n",
       "    </tr>\n",
       "    <tr>\n",
       "      <th>576</th>\n",
       "      <td>-2.095835</td>\n",
       "      <td>-1.362511</td>\n",
       "      <td>-0.816495</td>\n",
       "      <td>-0.541961</td>\n",
       "      <td>2.627567</td>\n",
       "      <td>0.236029</td>\n",
       "      <td>-1.123200</td>\n",
       "      <td>0.094518</td>\n",
       "      <td>0.130768</td>\n",
       "      <td>-2.389415</td>\n",
       "      <td>0.155515</td>\n",
       "    </tr>\n",
       "  </tbody>\n",
       "</table>\n",
       "<p>577 rows × 11 columns</p>\n",
       "</div>"
      ],
      "text/plain": [
       "       Gender   Married  Dependents  Education  Self_Employed  \\\n",
       "0    0.477137 -1.362511   -0.816495  -0.541961      -0.380580   \n",
       "1    0.477137  0.733939    1.043930  -0.541961      -0.380580   \n",
       "2    0.477137  0.733939   -0.816495  -0.541961       2.627567   \n",
       "3    0.477137  0.733939   -0.816495   1.845150      -0.380580   \n",
       "4    0.477137 -1.362511   -0.816495  -0.541961      -0.380580   \n",
       "..        ...       ...         ...        ...            ...   \n",
       "572 -2.095835 -1.362511   -0.816495  -0.541961      -0.380580   \n",
       "573  0.477137  0.733939    1.414106  -0.541961      -0.380580   \n",
       "574  0.477137  0.733939    1.043930  -0.541961      -0.380580   \n",
       "575  0.477137  0.733939    1.288261  -0.541961      -0.380580   \n",
       "576 -2.095835 -1.362511   -0.816495  -0.541961       2.627567   \n",
       "\n",
       "     ApplicantIncome  CoapplicantIncome  LoanAmount  Loan_Amount_Term  \\\n",
       "0           0.683009          -1.123200    0.001339          0.130768   \n",
       "1           0.236029           0.747018    0.001339          0.130768   \n",
       "2          -0.527023          -1.123200   -1.437842          0.130768   \n",
       "3          -0.792426           0.895177   -0.152993          0.130768   \n",
       "4           0.730044          -1.123200    0.238804          0.130768   \n",
       "..               ...                ...         ...               ...   \n",
       "572        -0.587331          -1.123200   -1.294098          0.130768   \n",
       "573         0.036476          -1.123200   -2.335004         -2.563235   \n",
       "574         1.281968           0.197613    1.843626          0.130768   \n",
       "575         1.165002          -1.123200    0.976112          0.130768   \n",
       "576         0.236029          -1.123200    0.094518          0.130768   \n",
       "\n",
       "     Credit_History  Property_Area  \n",
       "0          0.418513       1.101663  \n",
       "1          0.418513      -1.414978  \n",
       "2          0.418513       1.101663  \n",
       "3          0.418513       1.101663  \n",
       "4          0.418513       1.101663  \n",
       "..              ...            ...  \n",
       "572        0.418513      -1.414978  \n",
       "573        0.418513      -1.414978  \n",
       "574        0.418513       1.101663  \n",
       "575        0.418513       1.101663  \n",
       "576       -2.389415       0.155515  \n",
       "\n",
       "[577 rows x 11 columns]"
      ]
     },
     "execution_count": 44,
     "metadata": {},
     "output_type": "execute_result"
    }
   ],
   "source": [
    "### Need to Sale the DATA\n",
    "\n",
    "std=StandardScaler()\n",
    "X_scaled=pd.DataFrame(std.fit_transform(X_new),columns=X.columns)\n",
    "X_scaled\n"
   ]
  },
  {
   "cell_type": "markdown",
   "id": "50db0bf4",
   "metadata": {},
   "source": [
    "## MODEL BUILDING"
   ]
  },
  {
   "cell_type": "markdown",
   "id": "c4cef168",
   "metadata": {},
   "source": [
    "### Classicification problem\n",
    "- LogisticRegression\n",
    "- KNeighborsClassifier\n",
    "- DecisionTreeClassifier\n",
    "- RandomForestClassifier\n",
    "- SVC\n",
    "- AdaBoostClassifier"
   ]
  },
  {
   "cell_type": "markdown",
   "id": "83283175",
   "metadata": {},
   "source": [
    "### Checking best random state"
   ]
  },
  {
   "cell_type": "code",
   "execution_count": 45,
   "id": "d4eed00e",
   "metadata": {},
   "outputs": [
    {
     "name": "stdout",
     "output_type": "stream",
     "text": [
      "Accuracy score is  0.8333333333333334 Random state 0\n",
      "Accuracy 0.8333333333333334 Random State 0\n",
      "Accuracy score is  0.8045977011494253 Random state 1\n",
      "Accuracy score is  0.8160919540229885 Random state 2\n",
      "Accuracy score is  0.8103448275862069 Random state 3\n",
      "Accuracy score is  0.7758620689655172 Random state 4\n",
      "Accuracy score is  0.7931034482758621 Random state 5\n",
      "Accuracy score is  0.8275862068965517 Random state 6\n",
      "Accuracy score is  0.8045977011494253 Random state 7\n",
      "Accuracy score is  0.7873563218390804 Random state 8\n",
      "Accuracy score is  0.8103448275862069 Random state 9\n",
      "Accuracy score is  0.8160919540229885 Random state 10\n",
      "Accuracy score is  0.8045977011494253 Random state 11\n",
      "Accuracy score is  0.8850574712643678 Random state 12\n",
      "Accuracy 0.8850574712643678 Random State 12\n",
      "Accuracy score is  0.8103448275862069 Random state 13\n",
      "Accuracy score is  0.7701149425287356 Random state 14\n",
      "Accuracy score is  0.8275862068965517 Random state 15\n",
      "Accuracy score is  0.8160919540229885 Random state 16\n",
      "Accuracy score is  0.8160919540229885 Random state 17\n",
      "Accuracy score is  0.735632183908046 Random state 18\n",
      "Accuracy score is  0.8045977011494253 Random state 19\n",
      "Accuracy score is  0.8045977011494253 Random state 20\n",
      "Accuracy score is  0.8390804597701149 Random state 21\n",
      "Accuracy score is  0.7931034482758621 Random state 22\n",
      "Accuracy score is  0.7873563218390804 Random state 23\n",
      "Accuracy score is  0.8333333333333334 Random state 24\n",
      "Accuracy score is  0.8275862068965517 Random state 25\n",
      "Accuracy score is  0.8448275862068966 Random state 26\n",
      "Accuracy score is  0.8160919540229885 Random state 27\n",
      "Accuracy score is  0.8160919540229885 Random state 28\n",
      "Accuracy score is  0.7816091954022989 Random state 29\n",
      "Accuracy score is  0.7931034482758621 Random state 30\n",
      "Accuracy score is  0.8160919540229885 Random state 31\n",
      "Accuracy score is  0.8103448275862069 Random state 32\n",
      "Accuracy score is  0.8448275862068966 Random state 33\n",
      "Accuracy score is  0.7988505747126436 Random state 34\n",
      "Accuracy score is  0.8103448275862069 Random state 35\n",
      "Accuracy score is  0.8390804597701149 Random state 36\n",
      "Accuracy score is  0.7988505747126436 Random state 37\n",
      "Accuracy score is  0.8448275862068966 Random state 38\n",
      "Accuracy score is  0.8793103448275862 Random state 39\n",
      "Accuracy score is  0.8103448275862069 Random state 40\n",
      "Accuracy score is  0.8333333333333334 Random state 41\n",
      "Accuracy score is  0.8505747126436781 Random state 42\n",
      "Accuracy score is  0.7758620689655172 Random state 43\n",
      "Accuracy score is  0.8045977011494253 Random state 44\n",
      "Accuracy score is  0.8045977011494253 Random state 45\n",
      "Accuracy score is  0.8103448275862069 Random state 46\n",
      "Accuracy score is  0.8103448275862069 Random state 47\n",
      "Accuracy score is  0.8218390804597702 Random state 48\n",
      "Accuracy score is  0.8103448275862069 Random state 49\n",
      "Accuracy score is  0.8333333333333334 Random state 50\n",
      "Accuracy score is  0.8333333333333334 Random state 51\n",
      "Accuracy score is  0.8448275862068966 Random state 52\n",
      "Accuracy score is  0.8103448275862069 Random state 53\n",
      "Accuracy score is  0.7701149425287356 Random state 54\n",
      "Accuracy score is  0.8620689655172413 Random state 55\n",
      "Accuracy score is  0.8218390804597702 Random state 56\n",
      "Accuracy score is  0.7931034482758621 Random state 57\n",
      "Accuracy score is  0.8275862068965517 Random state 58\n",
      "Accuracy score is  0.8275862068965517 Random state 59\n",
      "Accuracy score is  0.8103448275862069 Random state 60\n",
      "Accuracy score is  0.7816091954022989 Random state 61\n",
      "Accuracy score is  0.7873563218390804 Random state 62\n",
      "Accuracy score is  0.7988505747126436 Random state 63\n",
      "Accuracy score is  0.8218390804597702 Random state 64\n",
      "Accuracy score is  0.7931034482758621 Random state 65\n",
      "Accuracy score is  0.8160919540229885 Random state 66\n",
      "Accuracy score is  0.7758620689655172 Random state 67\n",
      "Accuracy score is  0.8793103448275862 Random state 68\n",
      "Accuracy score is  0.8045977011494253 Random state 69\n",
      "Accuracy score is  0.764367816091954 Random state 70\n",
      "Accuracy score is  0.8448275862068966 Random state 71\n",
      "Accuracy score is  0.8045977011494253 Random state 72\n",
      "Accuracy score is  0.7931034482758621 Random state 73\n",
      "Accuracy score is  0.7528735632183908 Random state 74\n",
      "Accuracy score is  0.8333333333333334 Random state 75\n",
      "Accuracy score is  0.7873563218390804 Random state 76\n",
      "Accuracy score is  0.8160919540229885 Random state 77\n",
      "Accuracy score is  0.8333333333333334 Random state 78\n",
      "Accuracy score is  0.8390804597701149 Random state 79\n",
      "Accuracy score is  0.7758620689655172 Random state 80\n",
      "Accuracy score is  0.8160919540229885 Random state 81\n",
      "Accuracy score is  0.8448275862068966 Random state 82\n",
      "Accuracy score is  0.7988505747126436 Random state 83\n",
      "Accuracy score is  0.8735632183908046 Random state 84\n",
      "Accuracy score is  0.7873563218390804 Random state 85\n",
      "Accuracy score is  0.867816091954023 Random state 86\n",
      "Accuracy score is  0.8333333333333334 Random state 87\n",
      "Accuracy score is  0.7988505747126436 Random state 88\n",
      "Accuracy score is  0.7586206896551724 Random state 89\n",
      "Accuracy score is  0.8448275862068966 Random state 90\n",
      "Accuracy score is  0.867816091954023 Random state 91\n",
      "Accuracy score is  0.7873563218390804 Random state 92\n",
      "Accuracy score is  0.8448275862068966 Random state 93\n",
      "Accuracy score is  0.8448275862068966 Random state 94\n",
      "Accuracy score is  0.8275862068965517 Random state 95\n",
      "Accuracy score is  0.8333333333333334 Random state 96\n",
      "Accuracy score is  0.8160919540229885 Random state 97\n",
      "Accuracy score is  0.8103448275862069 Random state 98\n",
      "Accuracy score is  0.8045977011494253 Random state 99\n",
      "Accuracy score is  0.8218390804597702 Random state 100\n",
      "Accuracy score is  0.8160919540229885 Random state 101\n",
      "Accuracy score is  0.7931034482758621 Random state 102\n",
      "Accuracy score is  0.7988505747126436 Random state 103\n",
      "Accuracy score is  0.8103448275862069 Random state 104\n",
      "Accuracy score is  0.8045977011494253 Random state 105\n",
      "Accuracy score is  0.8448275862068966 Random state 106\n",
      "Accuracy score is  0.7758620689655172 Random state 107\n",
      "Accuracy score is  0.8103448275862069 Random state 108\n",
      "Accuracy score is  0.7931034482758621 Random state 109\n",
      "Accuracy score is  0.7988505747126436 Random state 110\n",
      "Accuracy score is  0.8275862068965517 Random state 111\n",
      "Accuracy score is  0.8218390804597702 Random state 112\n",
      "Accuracy score is  0.8103448275862069 Random state 113\n",
      "Accuracy score is  0.8160919540229885 Random state 114\n",
      "Accuracy score is  0.8505747126436781 Random state 115\n",
      "Accuracy score is  0.8390804597701149 Random state 116\n",
      "Accuracy score is  0.8218390804597702 Random state 117\n",
      "Accuracy score is  0.8045977011494253 Random state 118\n",
      "Accuracy score is  0.867816091954023 Random state 119\n",
      "Accuracy score is  0.7988505747126436 Random state 120\n",
      "Accuracy score is  0.8103448275862069 Random state 121\n",
      "Accuracy score is  0.8218390804597702 Random state 122\n",
      "Accuracy score is  0.8390804597701149 Random state 123\n",
      "Accuracy score is  0.8620689655172413 Random state 124\n",
      "Accuracy score is  0.8333333333333334 Random state 125\n",
      "Accuracy score is  0.8103448275862069 Random state 126\n",
      "Accuracy score is  0.7988505747126436 Random state 127\n",
      "Accuracy score is  0.8390804597701149 Random state 128\n",
      "Accuracy score is  0.7816091954022989 Random state 129\n",
      "Accuracy score is  0.8505747126436781 Random state 130\n",
      "Accuracy score is  0.8103448275862069 Random state 131\n",
      "Accuracy score is  0.7931034482758621 Random state 132\n",
      "Accuracy score is  0.8333333333333334 Random state 133\n",
      "Accuracy score is  0.8275862068965517 Random state 134\n",
      "Accuracy score is  0.8218390804597702 Random state 135\n",
      "Accuracy score is  0.7701149425287356 Random state 136\n",
      "Accuracy score is  0.8448275862068966 Random state 137\n",
      "Accuracy score is  0.7988505747126436 Random state 138\n",
      "Accuracy score is  0.7988505747126436 Random state 139\n",
      "Accuracy score is  0.7873563218390804 Random state 140\n",
      "Accuracy score is  0.8218390804597702 Random state 141\n",
      "Accuracy score is  0.8218390804597702 Random state 142\n",
      "Accuracy score is  0.7701149425287356 Random state 143\n",
      "Accuracy score is  0.764367816091954 Random state 144\n",
      "Accuracy score is  0.8103448275862069 Random state 145\n",
      "Accuracy score is  0.7988505747126436 Random state 146\n",
      "Accuracy score is  0.8333333333333334 Random state 147\n",
      "Accuracy score is  0.8160919540229885 Random state 148\n",
      "Accuracy score is  0.7701149425287356 Random state 149\n",
      "Accuracy score is  0.8505747126436781 Random state 150\n",
      "Accuracy score is  0.8045977011494253 Random state 151\n",
      "Accuracy score is  0.8103448275862069 Random state 152\n",
      "Accuracy score is  0.8045977011494253 Random state 153\n",
      "Accuracy score is  0.8218390804597702 Random state 154\n",
      "Accuracy score is  0.7988505747126436 Random state 155\n",
      "Accuracy score is  0.8160919540229885 Random state 156\n",
      "Accuracy score is  0.8045977011494253 Random state 157\n",
      "Accuracy score is  0.8333333333333334 Random state 158\n",
      "Accuracy score is  0.8333333333333334 Random state 159\n",
      "Accuracy score is  0.8045977011494253 Random state 160\n",
      "Accuracy score is  0.8160919540229885 Random state 161\n",
      "Accuracy score is  0.7931034482758621 Random state 162\n",
      "Accuracy score is  0.8448275862068966 Random state 163\n",
      "Accuracy score is  0.8045977011494253 Random state 164\n",
      "Accuracy score is  0.8505747126436781 Random state 165\n",
      "Accuracy score is  0.8045977011494253 Random state 166\n",
      "Accuracy score is  0.8505747126436781 Random state 167\n",
      "Accuracy score is  0.8218390804597702 Random state 168\n",
      "Accuracy score is  0.8620689655172413 Random state 169\n",
      "Accuracy score is  0.8160919540229885 Random state 170\n",
      "Accuracy score is  0.8045977011494253 Random state 171\n",
      "Accuracy score is  0.8045977011494253 Random state 172\n",
      "Accuracy score is  0.8333333333333334 Random state 173\n",
      "Accuracy score is  0.8448275862068966 Random state 174\n",
      "Accuracy score is  0.8218390804597702 Random state 175\n",
      "Accuracy score is  0.7873563218390804 Random state 176\n",
      "Accuracy score is  0.8045977011494253 Random state 177\n",
      "Accuracy score is  0.7816091954022989 Random state 178\n",
      "Accuracy score is  0.8218390804597702 Random state 179\n",
      "Accuracy score is  0.8103448275862069 Random state 180\n",
      "Accuracy score is  0.8390804597701149 Random state 181\n",
      "Accuracy score is  0.8218390804597702 Random state 182\n",
      "Accuracy score is  0.8045977011494253 Random state 183\n",
      "Accuracy score is  0.8218390804597702 Random state 184\n",
      "Accuracy score is  0.8218390804597702 Random state 185\n",
      "Accuracy score is  0.7988505747126436 Random state 186\n",
      "Accuracy score is  0.8103448275862069 Random state 187\n",
      "Accuracy score is  0.8045977011494253 Random state 188\n",
      "Accuracy score is  0.8160919540229885 Random state 189\n",
      "Accuracy score is  0.8218390804597702 Random state 190\n",
      "Accuracy score is  0.7816091954022989 Random state 191\n",
      "Accuracy score is  0.8448275862068966 Random state 192\n",
      "Accuracy score is  0.7988505747126436 Random state 193\n",
      "Accuracy score is  0.7586206896551724 Random state 194\n",
      "Accuracy score is  0.8160919540229885 Random state 195\n",
      "Accuracy score is  0.8333333333333334 Random state 196\n",
      "Accuracy score is  0.7988505747126436 Random state 197\n",
      "Accuracy score is  0.7988505747126436 Random state 198\n",
      "Accuracy score is  0.8045977011494253 Random state 199\n",
      "Accuracy score is  0.7586206896551724 Random state 200\n",
      "Accuracy score is  0.8275862068965517 Random state 201\n",
      "Accuracy score is  0.7988505747126436 Random state 202\n",
      "Accuracy score is  0.8333333333333334 Random state 203\n",
      "Accuracy score is  0.8390804597701149 Random state 204\n",
      "Accuracy score is  0.8793103448275862 Random state 205\n",
      "Accuracy score is  0.7816091954022989 Random state 206\n",
      "Accuracy score is  0.8218390804597702 Random state 207\n",
      "Accuracy score is  0.8160919540229885 Random state 208\n",
      "Accuracy score is  0.8448275862068966 Random state 209\n",
      "Accuracy score is  0.8160919540229885 Random state 210\n",
      "Accuracy score is  0.8275862068965517 Random state 211\n",
      "Accuracy score is  0.7988505747126436 Random state 212\n",
      "Accuracy score is  0.8333333333333334 Random state 213\n",
      "Accuracy score is  0.8563218390804598 Random state 214\n",
      "Accuracy score is  0.7931034482758621 Random state 215\n",
      "Accuracy score is  0.7988505747126436 Random state 216\n",
      "Accuracy score is  0.8218390804597702 Random state 217\n",
      "Accuracy score is  0.8448275862068966 Random state 218\n",
      "Accuracy score is  0.8333333333333334 Random state 219\n",
      "Accuracy score is  0.8218390804597702 Random state 220\n",
      "Accuracy score is  0.7586206896551724 Random state 221\n",
      "Accuracy score is  0.7816091954022989 Random state 222\n",
      "Accuracy score is  0.8103448275862069 Random state 223\n",
      "Accuracy score is  0.8390804597701149 Random state 224\n",
      "Accuracy score is  0.8390804597701149 Random state 225\n",
      "Accuracy score is  0.8333333333333334 Random state 226\n",
      "Accuracy score is  0.8218390804597702 Random state 227\n",
      "Accuracy score is  0.7988505747126436 Random state 228\n",
      "Accuracy score is  0.7873563218390804 Random state 229\n",
      "Accuracy score is  0.7758620689655172 Random state 230\n",
      "Accuracy score is  0.8333333333333334 Random state 231\n",
      "Accuracy score is  0.7988505747126436 Random state 232\n",
      "Accuracy score is  0.8045977011494253 Random state 233\n",
      "Accuracy score is  0.8333333333333334 Random state 234\n",
      "Accuracy score is  0.8160919540229885 Random state 235\n",
      "Accuracy score is  0.8103448275862069 Random state 236\n",
      "Accuracy score is  0.8103448275862069 Random state 237\n",
      "Accuracy score is  0.8218390804597702 Random state 238\n",
      "Accuracy score is  0.8045977011494253 Random state 239\n",
      "Accuracy score is  0.8333333333333334 Random state 240\n",
      "Accuracy score is  0.8333333333333334 Random state 241\n",
      "Accuracy score is  0.8103448275862069 Random state 242\n",
      "Accuracy score is  0.8390804597701149 Random state 243\n",
      "Accuracy score is  0.7988505747126436 Random state 244\n",
      "Accuracy score is  0.7758620689655172 Random state 245\n",
      "Accuracy score is  0.7931034482758621 Random state 246\n",
      "Accuracy score is  0.7931034482758621 Random state 247\n",
      "Accuracy score is  0.7816091954022989 Random state 248\n",
      "Accuracy score is  0.8505747126436781 Random state 249\n",
      "Accuracy score is  0.8448275862068966 Random state 250\n",
      "Accuracy score is  0.7758620689655172 Random state 251\n",
      "Accuracy score is  0.8505747126436781 Random state 252\n",
      "Accuracy score is  0.8103448275862069 Random state 253\n",
      "Accuracy score is  0.8390804597701149 Random state 254\n",
      "Accuracy score is  0.8218390804597702 Random state 255\n",
      "Accuracy score is  0.8218390804597702 Random state 256\n",
      "Accuracy score is  0.8045977011494253 Random state 257\n",
      "Accuracy score is  0.8160919540229885 Random state 258\n",
      "Accuracy score is  0.8045977011494253 Random state 259\n",
      "Accuracy score is  0.8160919540229885 Random state 260\n",
      "Accuracy score is  0.8908045977011494 Random state 261\n",
      "Accuracy 0.8908045977011494 Random State 261\n",
      "Accuracy score is  0.8333333333333334 Random state 262\n",
      "Accuracy score is  0.7873563218390804 Random state 263\n",
      "Accuracy score is  0.8390804597701149 Random state 264\n",
      "Accuracy score is  0.8333333333333334 Random state 265\n",
      "Accuracy score is  0.8448275862068966 Random state 266\n",
      "Accuracy score is  0.8218390804597702 Random state 267\n",
      "Accuracy score is  0.8390804597701149 Random state 268\n",
      "Accuracy score is  0.8160919540229885 Random state 269\n",
      "Accuracy score is  0.7873563218390804 Random state 270\n",
      "Accuracy score is  0.7816091954022989 Random state 271\n",
      "Accuracy score is  0.7988505747126436 Random state 272\n",
      "Accuracy score is  0.8160919540229885 Random state 273\n",
      "Accuracy score is  0.8333333333333334 Random state 274\n",
      "Accuracy score is  0.8160919540229885 Random state 275\n",
      "Accuracy score is  0.8045977011494253 Random state 276\n",
      "Accuracy score is  0.8390804597701149 Random state 277\n",
      "Accuracy score is  0.8390804597701149 Random state 278\n",
      "Accuracy score is  0.7988505747126436 Random state 279\n",
      "Accuracy score is  0.8045977011494253 Random state 280\n",
      "Accuracy score is  0.8045977011494253 Random state 281\n",
      "Accuracy score is  0.8275862068965517 Random state 282\n",
      "Accuracy score is  0.8505747126436781 Random state 283\n",
      "Accuracy score is  0.8045977011494253 Random state 284\n",
      "Accuracy score is  0.7586206896551724 Random state 285\n",
      "Accuracy score is  0.8275862068965517 Random state 286\n",
      "Accuracy score is  0.8390804597701149 Random state 287\n",
      "Accuracy score is  0.8563218390804598 Random state 288\n",
      "Accuracy score is  0.8563218390804598 Random state 289\n",
      "Accuracy score is  0.8160919540229885 Random state 290\n",
      "Accuracy score is  0.8160919540229885 Random state 291\n",
      "Accuracy score is  0.8045977011494253 Random state 292\n",
      "Accuracy score is  0.8218390804597702 Random state 293\n",
      "Accuracy score is  0.7931034482758621 Random state 294\n",
      "Accuracy score is  0.8103448275862069 Random state 295\n",
      "Accuracy score is  0.7816091954022989 Random state 296\n",
      "Accuracy score is  0.8218390804597702 Random state 297\n",
      "Accuracy score is  0.7931034482758621 Random state 298\n",
      "Accuracy score is  0.8333333333333334 Random state 299\n",
      "Accuracy score is  0.7988505747126436 Random state 300\n",
      "Accuracy score is  0.8218390804597702 Random state 301\n",
      "Accuracy score is  0.8160919540229885 Random state 302\n",
      "Accuracy score is  0.7528735632183908 Random state 303\n",
      "Accuracy score is  0.8390804597701149 Random state 304\n",
      "Accuracy score is  0.867816091954023 Random state 305\n",
      "Accuracy score is  0.7988505747126436 Random state 306\n",
      "Accuracy score is  0.8160919540229885 Random state 307\n",
      "Accuracy score is  0.8333333333333334 Random state 308\n",
      "Accuracy score is  0.8275862068965517 Random state 309\n",
      "Accuracy score is  0.8275862068965517 Random state 310\n",
      "Accuracy score is  0.8505747126436781 Random state 311\n",
      "Accuracy score is  0.7988505747126436 Random state 312\n",
      "Accuracy score is  0.8390804597701149 Random state 313\n",
      "Accuracy score is  0.8160919540229885 Random state 314\n",
      "Accuracy score is  0.8793103448275862 Random state 315\n",
      "Accuracy score is  0.8448275862068966 Random state 316\n",
      "Accuracy score is  0.8390804597701149 Random state 317\n",
      "Accuracy score is  0.7816091954022989 Random state 318\n",
      "Accuracy score is  0.8103448275862069 Random state 319\n",
      "Accuracy score is  0.8333333333333334 Random state 320\n",
      "Accuracy score is  0.8045977011494253 Random state 321\n",
      "Accuracy score is  0.8103448275862069 Random state 322\n",
      "Accuracy score is  0.8275862068965517 Random state 323\n",
      "Accuracy score is  0.7988505747126436 Random state 324\n",
      "Accuracy score is  0.7758620689655172 Random state 325\n",
      "Accuracy score is  0.8505747126436781 Random state 326\n",
      "Accuracy score is  0.8160919540229885 Random state 327\n",
      "Accuracy score is  0.7873563218390804 Random state 328\n",
      "Accuracy score is  0.7873563218390804 Random state 329\n",
      "Accuracy score is  0.8103448275862069 Random state 330\n",
      "Accuracy score is  0.8333333333333334 Random state 331\n",
      "Accuracy score is  0.7816091954022989 Random state 332\n",
      "Accuracy score is  0.8160919540229885 Random state 333\n",
      "Accuracy score is  0.8045977011494253 Random state 334\n",
      "Accuracy score is  0.8448275862068966 Random state 335\n",
      "Accuracy score is  0.7988505747126436 Random state 336\n",
      "Accuracy score is  0.7931034482758621 Random state 337\n",
      "Accuracy score is  0.8103448275862069 Random state 338\n",
      "Accuracy score is  0.7931034482758621 Random state 339\n",
      "Accuracy score is  0.8045977011494253 Random state 340\n",
      "Accuracy score is  0.7931034482758621 Random state 341\n",
      "Accuracy score is  0.8160919540229885 Random state 342\n",
      "Accuracy score is  0.8045977011494253 Random state 343\n",
      "Accuracy score is  0.8333333333333334 Random state 344\n",
      "Accuracy score is  0.8390804597701149 Random state 345\n",
      "Accuracy score is  0.8275862068965517 Random state 346\n",
      "Accuracy score is  0.7988505747126436 Random state 347\n",
      "Accuracy score is  0.8045977011494253 Random state 348\n",
      "Accuracy score is  0.8735632183908046 Random state 349\n",
      "Accuracy score is  0.8103448275862069 Random state 350\n",
      "Accuracy score is  0.8218390804597702 Random state 351\n",
      "Accuracy score is  0.8160919540229885 Random state 352\n",
      "Accuracy score is  0.8390804597701149 Random state 353\n",
      "Accuracy score is  0.8045977011494253 Random state 354\n",
      "Accuracy score is  0.7988505747126436 Random state 355\n",
      "Accuracy score is  0.8103448275862069 Random state 356\n",
      "Accuracy score is  0.8390804597701149 Random state 357\n",
      "Accuracy score is  0.8218390804597702 Random state 358\n",
      "Accuracy score is  0.8160919540229885 Random state 359\n",
      "Accuracy score is  0.8275862068965517 Random state 360\n",
      "Accuracy score is  0.8448275862068966 Random state 361\n",
      "Accuracy score is  0.8045977011494253 Random state 362\n",
      "Accuracy score is  0.8620689655172413 Random state 363\n",
      "Accuracy score is  0.8505747126436781 Random state 364\n",
      "Accuracy score is  0.8045977011494253 Random state 365\n",
      "Accuracy score is  0.8563218390804598 Random state 366\n",
      "Accuracy score is  0.8218390804597702 Random state 367\n",
      "Accuracy score is  0.8275862068965517 Random state 368\n",
      "Accuracy score is  0.7931034482758621 Random state 369\n",
      "Accuracy score is  0.8448275862068966 Random state 370\n",
      "Accuracy score is  0.7586206896551724 Random state 371\n",
      "Accuracy score is  0.7988505747126436 Random state 372\n",
      "Accuracy score is  0.7816091954022989 Random state 373\n",
      "Accuracy score is  0.8045977011494253 Random state 374\n",
      "Accuracy score is  0.7873563218390804 Random state 375\n",
      "Accuracy score is  0.7816091954022989 Random state 376\n",
      "Accuracy score is  0.8275862068965517 Random state 377\n",
      "Accuracy score is  0.8275862068965517 Random state 378\n",
      "Accuracy score is  0.8103448275862069 Random state 379\n",
      "Accuracy score is  0.8333333333333334 Random state 380\n",
      "Accuracy score is  0.7988505747126436 Random state 381\n",
      "Accuracy score is  0.7816091954022989 Random state 382\n",
      "Accuracy score is  0.8103448275862069 Random state 383\n",
      "Accuracy score is  0.8103448275862069 Random state 384\n",
      "Accuracy score is  0.8103448275862069 Random state 385\n",
      "Accuracy score is  0.8448275862068966 Random state 386\n",
      "Accuracy score is  0.7988505747126436 Random state 387\n",
      "Accuracy score is  0.8218390804597702 Random state 388\n",
      "Accuracy score is  0.8735632183908046 Random state 389\n",
      "Accuracy score is  0.7988505747126436 Random state 390\n",
      "Accuracy score is  0.8218390804597702 Random state 391\n",
      "Accuracy score is  0.8103448275862069 Random state 392\n",
      "Accuracy score is  0.7988505747126436 Random state 393\n",
      "Accuracy score is  0.7816091954022989 Random state 394\n",
      "Accuracy score is  0.8275862068965517 Random state 395\n",
      "Accuracy score is  0.8160919540229885 Random state 396\n",
      "Accuracy score is  0.8218390804597702 Random state 397\n",
      "Accuracy score is  0.7758620689655172 Random state 398\n",
      "Accuracy score is  0.7931034482758621 Random state 399\n",
      "Accuracy score is  0.8103448275862069 Random state 400\n",
      "Accuracy score is  0.8275862068965517 Random state 401\n",
      "Accuracy score is  0.7931034482758621 Random state 402\n",
      "Accuracy score is  0.8045977011494253 Random state 403\n",
      "Accuracy score is  0.8333333333333334 Random state 404\n",
      "Accuracy score is  0.8103448275862069 Random state 405\n",
      "Accuracy score is  0.7988505747126436 Random state 406\n",
      "Accuracy score is  0.8160919540229885 Random state 407\n",
      "Accuracy score is  0.8333333333333334 Random state 408\n",
      "Accuracy score is  0.764367816091954 Random state 409\n",
      "Accuracy score is  0.8045977011494253 Random state 410\n",
      "Accuracy score is  0.8275862068965517 Random state 411\n",
      "Accuracy score is  0.7988505747126436 Random state 412\n",
      "Accuracy score is  0.8045977011494253 Random state 413\n",
      "Accuracy score is  0.7528735632183908 Random state 414\n",
      "Accuracy score is  0.8103448275862069 Random state 415\n",
      "Accuracy score is  0.8045977011494253 Random state 416\n",
      "Accuracy score is  0.8045977011494253 Random state 417\n",
      "Accuracy score is  0.8045977011494253 Random state 418\n",
      "Accuracy score is  0.8103448275862069 Random state 419\n",
      "Accuracy score is  0.8563218390804598 Random state 420\n",
      "Accuracy score is  0.8448275862068966 Random state 421\n",
      "Accuracy score is  0.7988505747126436 Random state 422\n",
      "Accuracy score is  0.7988505747126436 Random state 423\n",
      "Accuracy score is  0.8505747126436781 Random state 424\n",
      "Accuracy score is  0.8275862068965517 Random state 425\n",
      "Accuracy score is  0.8505747126436781 Random state 426\n",
      "Accuracy score is  0.8218390804597702 Random state 427\n",
      "Accuracy score is  0.8563218390804598 Random state 428\n",
      "Accuracy score is  0.7873563218390804 Random state 429\n",
      "Accuracy score is  0.8218390804597702 Random state 430\n",
      "Accuracy score is  0.8218390804597702 Random state 431\n",
      "Accuracy score is  0.8103448275862069 Random state 432\n",
      "Accuracy score is  0.7873563218390804 Random state 433\n",
      "Accuracy score is  0.8103448275862069 Random state 434\n",
      "Accuracy score is  0.8218390804597702 Random state 435\n",
      "Accuracy score is  0.7988505747126436 Random state 436\n",
      "Accuracy score is  0.7931034482758621 Random state 437\n",
      "Accuracy score is  0.8160919540229885 Random state 438\n",
      "Accuracy score is  0.764367816091954 Random state 439\n",
      "Accuracy score is  0.8218390804597702 Random state 440\n",
      "Accuracy score is  0.8448275862068966 Random state 441\n",
      "Accuracy score is  0.7988505747126436 Random state 442\n",
      "Accuracy score is  0.7758620689655172 Random state 443\n",
      "Accuracy score is  0.8275862068965517 Random state 444\n",
      "Accuracy score is  0.8275862068965517 Random state 445\n",
      "Accuracy score is  0.764367816091954 Random state 446\n",
      "Accuracy score is  0.8390804597701149 Random state 447\n",
      "Accuracy score is  0.7931034482758621 Random state 448\n",
      "Accuracy score is  0.8218390804597702 Random state 449\n",
      "Accuracy score is  0.8045977011494253 Random state 450\n",
      "Accuracy score is  0.7758620689655172 Random state 451\n",
      "Accuracy score is  0.8333333333333334 Random state 452\n",
      "Accuracy score is  0.8218390804597702 Random state 453\n",
      "Accuracy score is  0.8045977011494253 Random state 454\n",
      "Accuracy score is  0.8160919540229885 Random state 455\n",
      "Accuracy score is  0.7988505747126436 Random state 456\n",
      "Accuracy score is  0.8333333333333334 Random state 457\n",
      "Accuracy score is  0.8275862068965517 Random state 458\n",
      "Accuracy score is  0.8218390804597702 Random state 459\n",
      "Accuracy score is  0.8563218390804598 Random state 460\n",
      "Accuracy score is  0.7988505747126436 Random state 461\n",
      "Accuracy score is  0.764367816091954 Random state 462\n",
      "Accuracy score is  0.8390804597701149 Random state 463\n",
      "Accuracy score is  0.8103448275862069 Random state 464\n",
      "Accuracy score is  0.8103448275862069 Random state 465\n",
      "Accuracy score is  0.8620689655172413 Random state 466\n",
      "Accuracy score is  0.7988505747126436 Random state 467\n",
      "Accuracy score is  0.8103448275862069 Random state 468\n",
      "Accuracy score is  0.8505747126436781 Random state 469\n",
      "Accuracy score is  0.764367816091954 Random state 470\n",
      "Accuracy score is  0.8160919540229885 Random state 471\n",
      "Accuracy score is  0.8390804597701149 Random state 472\n",
      "Accuracy score is  0.8160919540229885 Random state 473\n",
      "Accuracy score is  0.7931034482758621 Random state 474\n",
      "Accuracy score is  0.8333333333333334 Random state 475\n",
      "Accuracy score is  0.8160919540229885 Random state 476\n",
      "Accuracy score is  0.8505747126436781 Random state 477\n",
      "Accuracy score is  0.8448275862068966 Random state 478\n",
      "Accuracy score is  0.7931034482758621 Random state 479\n",
      "Accuracy score is  0.8218390804597702 Random state 480\n",
      "Accuracy score is  0.8160919540229885 Random state 481\n",
      "Accuracy score is  0.7758620689655172 Random state 482\n",
      "Accuracy score is  0.7873563218390804 Random state 483\n",
      "Accuracy score is  0.7931034482758621 Random state 484\n",
      "Accuracy score is  0.8218390804597702 Random state 485\n",
      "Accuracy score is  0.8218390804597702 Random state 486\n",
      "Accuracy score is  0.7758620689655172 Random state 487\n",
      "Accuracy score is  0.7758620689655172 Random state 488\n",
      "Accuracy score is  0.8735632183908046 Random state 489\n",
      "Accuracy score is  0.8160919540229885 Random state 490\n",
      "Accuracy score is  0.7873563218390804 Random state 491\n",
      "Accuracy score is  0.8103448275862069 Random state 492\n",
      "Accuracy score is  0.7701149425287356 Random state 493\n",
      "Accuracy score is  0.896551724137931 Random state 494\n",
      "Accuracy 0.896551724137931 Random State 494\n",
      "Accuracy score is  0.8620689655172413 Random state 495\n",
      "Accuracy score is  0.7758620689655172 Random state 496\n",
      "Accuracy score is  0.8103448275862069 Random state 497\n",
      "Accuracy score is  0.8218390804597702 Random state 498\n",
      "Accuracy score is  0.8275862068965517 Random state 499\n"
     ]
    }
   ],
   "source": [
    "\n",
    "\n",
    "bestrandom = 0\n",
    "max_score = 0\n",
    "#models=[LogisticRegression(),KNeighborsClassifier(),DecisionTreeClassifier(),RandomForestClassifier()]\n",
    "\n",
    "for i in range(0,500):\n",
    "    X_train,X_test,Y_train,Y_test=train_test_split(X_scaled,Y,test_size=0.30,random_state=i)\n",
    "    \n",
    "    LR=LogisticRegression()\n",
    "    LR.fit(X_train,Y_train)\n",
    "    predrf=LR.predict(X_test)\n",
    "    acc=accuracy_score(Y_test,predrf)\n",
    "    \n",
    "    print('Accuracy score is ',acc,'Random state',i)\n",
    "    \n",
    "    if acc>max_score:\n",
    "        max_score=acc\n",
    "        bestrandom=i\n",
    "            \n",
    "        print('Accuracy',max_score,'Random State',i)\n"
   ]
  },
  {
   "cell_type": "code",
   "execution_count": 46,
   "id": "f06dbba8",
   "metadata": {},
   "outputs": [
    {
     "name": "stdout",
     "output_type": "stream",
     "text": [
      "Best Accuracy is 0.896551724137931 Best Random State 494\n"
     ]
    }
   ],
   "source": [
    "print('Best Accuracy is',max_score,'Best Random State',bestrandom)"
   ]
  },
  {
   "cell_type": "markdown",
   "id": "14bfb7a8",
   "metadata": {},
   "source": [
    "### Train-Test-Split"
   ]
  },
  {
   "cell_type": "code",
   "execution_count": 47,
   "id": "dcb963b1",
   "metadata": {},
   "outputs": [
    {
     "name": "stdout",
     "output_type": "stream",
     "text": [
      "(403, 11)\n",
      "(403,)\n"
     ]
    }
   ],
   "source": [
    "X_train,X_test,Y_train,Y_test=train_test_split(X_scaled,Y,test_size=0.30,random_state=494)\n",
    "print(X_train.shape)\n",
    "print(Y_train.shape)"
   ]
  },
  {
   "cell_type": "markdown",
   "id": "b15940dc",
   "metadata": {},
   "source": [
    "#### Building Model using all below classification algorithms"
   ]
  },
  {
   "cell_type": "code",
   "execution_count": 48,
   "id": "b90a2ade",
   "metadata": {},
   "outputs": [
    {
     "name": "stdout",
     "output_type": "stream",
     "text": [
      "Model Name LogisticRegression()\n",
      "Accuracy 78.16377171215882\n",
      "[[ 57  80]\n",
      " [  8 258]]\n",
      "              precision    recall  f1-score   support\n",
      "\n",
      "           0       0.88      0.42      0.56       137\n",
      "           1       0.76      0.97      0.85       266\n",
      "\n",
      "    accuracy                           0.78       403\n",
      "   macro avg       0.82      0.69      0.71       403\n",
      "weighted avg       0.80      0.78      0.76       403\n",
      "\n",
      ">>>>>>>>>>>>>>>>>>>>>>>>>>>>>>>>>>>>>>>>>>>>>>>>>>>>>>>>>>>>>> \n",
      "\n",
      "Model Name KNeighborsClassifier()\n",
      "Accuracy 80.64516129032258\n",
      "[[ 71  66]\n",
      " [ 12 254]]\n",
      "              precision    recall  f1-score   support\n",
      "\n",
      "           0       0.86      0.52      0.65       137\n",
      "           1       0.79      0.95      0.87       266\n",
      "\n",
      "    accuracy                           0.81       403\n",
      "   macro avg       0.82      0.74      0.76       403\n",
      "weighted avg       0.81      0.81      0.79       403\n",
      "\n",
      ">>>>>>>>>>>>>>>>>>>>>>>>>>>>>>>>>>>>>>>>>>>>>>>>>>>>>>>>>>>>>> \n",
      "\n",
      "Model Name DecisionTreeClassifier()\n",
      "Accuracy 100.0\n",
      "[[137   0]\n",
      " [  0 266]]\n",
      "              precision    recall  f1-score   support\n",
      "\n",
      "           0       1.00      1.00      1.00       137\n",
      "           1       1.00      1.00      1.00       266\n",
      "\n",
      "    accuracy                           1.00       403\n",
      "   macro avg       1.00      1.00      1.00       403\n",
      "weighted avg       1.00      1.00      1.00       403\n",
      "\n",
      ">>>>>>>>>>>>>>>>>>>>>>>>>>>>>>>>>>>>>>>>>>>>>>>>>>>>>>>>>>>>>> \n",
      "\n",
      "Model Name RandomForestClassifier()\n",
      "Accuracy 100.0\n",
      "[[137   0]\n",
      " [  0 266]]\n",
      "              precision    recall  f1-score   support\n",
      "\n",
      "           0       1.00      1.00      1.00       137\n",
      "           1       1.00      1.00      1.00       266\n",
      "\n",
      "    accuracy                           1.00       403\n",
      "   macro avg       1.00      1.00      1.00       403\n",
      "weighted avg       1.00      1.00      1.00       403\n",
      "\n",
      ">>>>>>>>>>>>>>>>>>>>>>>>>>>>>>>>>>>>>>>>>>>>>>>>>>>>>>>>>>>>>> \n",
      "\n",
      "Model Name SVC()\n",
      "Accuracy 79.90074441687345\n",
      "[[ 62  75]\n",
      " [  6 260]]\n",
      "              precision    recall  f1-score   support\n",
      "\n",
      "           0       0.91      0.45      0.60       137\n",
      "           1       0.78      0.98      0.87       266\n",
      "\n",
      "    accuracy                           0.80       403\n",
      "   macro avg       0.84      0.71      0.74       403\n",
      "weighted avg       0.82      0.80      0.78       403\n",
      "\n",
      ">>>>>>>>>>>>>>>>>>>>>>>>>>>>>>>>>>>>>>>>>>>>>>>>>>>>>>>>>>>>>> \n",
      "\n",
      "Model Name AdaBoostClassifier()\n",
      "Accuracy 83.62282878411911\n",
      "[[ 83  54]\n",
      " [ 12 254]]\n",
      "              precision    recall  f1-score   support\n",
      "\n",
      "           0       0.87      0.61      0.72       137\n",
      "           1       0.82      0.95      0.89       266\n",
      "\n",
      "    accuracy                           0.84       403\n",
      "   macro avg       0.85      0.78      0.80       403\n",
      "weighted avg       0.84      0.84      0.83       403\n",
      "\n",
      ">>>>>>>>>>>>>>>>>>>>>>>>>>>>>>>>>>>>>>>>>>>>>>>>>>>>>>>>>>>>>> \n",
      "\n"
     ]
    }
   ],
   "source": [
    "X_train,X_test,Y_train,Y_test = train_test_split(X_scaled,Y,test_size=0.30,random_state=494)\n",
    "models=[LogisticRegression(),KNeighborsClassifier(),DecisionTreeClassifier(),RandomForestClassifier(),SVC(),AdaBoostClassifier()]\n",
    "for model in models:\n",
    "    model.fit(X_train,Y_train)\n",
    "    predlr=model.predict(X_train)\n",
    "    print(\"Model Name\",model)\n",
    "    print(\"Accuracy\",accuracy_score(Y_train,predlr)*100)\n",
    "    print(confusion_matrix(Y_train,predlr))\n",
    "    print(classification_report(Y_train,predlr))\n",
    "    print('>>>>>>>>>>>>>>>>>>>>>>>>>>>>>>>>>>>>>>>>>>>>>>>>>>>>>>>>>>>>>>','\\n')"
   ]
  },
  {
   "cell_type": "markdown",
   "id": "c93165ad",
   "metadata": {},
   "source": [
    "### Cross Validation Score"
   ]
  },
  {
   "cell_type": "code",
   "execution_count": 49,
   "id": "1a22c52e",
   "metadata": {},
   "outputs": [
    {
     "name": "stdout",
     "output_type": "stream",
     "text": [
      "Model Name : LogisticRegression()\n",
      "Cross validation score is:  81.98200899550224\n",
      "Mean score : 81.98200899550224\n",
      "STD : 2.7790198124777885\n",
      "===========================================\n",
      "Model Name : KNeighborsClassifier()\n",
      "Cross validation score is:  77.64767616191904\n",
      "Mean score : 77.64767616191904\n",
      "STD : 3.0416919300334\n",
      "===========================================\n",
      "Model Name : DecisionTreeClassifier()\n",
      "Cross validation score is:  72.44677661169415\n",
      "Mean score : 72.44677661169415\n",
      "STD : 3.036818882565646\n",
      "===========================================\n",
      "Model Name : RandomForestClassifier()\n",
      "Cross validation score is:  78.8575712143928\n",
      "Mean score : 78.8575712143928\n",
      "STD : 2.0834812263986775\n",
      "===========================================\n",
      "Model Name : SVC()\n",
      "Cross validation score is:  81.80809595202398\n",
      "Mean score : 81.80809595202398\n",
      "STD : 3.020375233771556\n",
      "===========================================\n",
      "Model Name : AdaBoostClassifier()\n",
      "Cross validation score is:  78.34632683658171\n",
      "Mean score : 78.34632683658171\n",
      "STD : 2.766917644742775\n",
      "===========================================\n"
     ]
    }
   ],
   "source": [
    "from sklearn.model_selection import cross_val_score\n",
    "models=[LogisticRegression(),KNeighborsClassifier(),DecisionTreeClassifier(),RandomForestClassifier(),SVC(),AdaBoostClassifier()]\n",
    "for model in models:\n",
    "    scr = cross_val_score(model,X_scaled,Y,cv=5)\n",
    "    print(\"Model Name :\",model)\n",
    "    print(\"Cross validation score is: \", scr.mean()*100)\n",
    "    print(\"Mean score :\", (scr.mean())*100)\n",
    "    print(\"STD :\", scr.std()*100)\n",
    "    print('===========================================')"
   ]
  },
  {
   "cell_type": "markdown",
   "id": "5b699a83",
   "metadata": {},
   "source": [
    "## HyperParameter tuning\n",
    "### GridSearchCV method"
   ]
  },
  {
   "cell_type": "markdown",
   "id": "33d2a973",
   "metadata": {},
   "source": [
    "### RandomforestClassifier mothod"
   ]
  },
  {
   "cell_type": "code",
   "execution_count": 50,
   "id": "5008fefa",
   "metadata": {},
   "outputs": [],
   "source": [
    "parameters = {'criterion':['gini'],\n",
    "             'max_features':['auto'],\n",
    "             'n_estimators':[0,200],\n",
    "             'max_depth':[2,3,4,5,6,8]}"
   ]
  },
  {
   "cell_type": "code",
   "execution_count": 51,
   "id": "f00e7479",
   "metadata": {},
   "outputs": [],
   "source": [
    "GCV=GridSearchCV(RandomForestClassifier(),parameters,cv=5)"
   ]
  },
  {
   "cell_type": "code",
   "execution_count": 52,
   "id": "934aefe8",
   "metadata": {},
   "outputs": [
    {
     "data": {
      "text/plain": [
       "GridSearchCV(cv=5, estimator=RandomForestClassifier(),\n",
       "             param_grid={'criterion': ['gini'], 'max_depth': [2, 3, 4, 5, 6, 8],\n",
       "                         'max_features': ['auto'], 'n_estimators': [0, 200]})"
      ]
     },
     "execution_count": 52,
     "metadata": {},
     "output_type": "execute_result"
    }
   ],
   "source": [
    "GCV.fit(X_train,Y_train)"
   ]
  },
  {
   "cell_type": "code",
   "execution_count": 53,
   "id": "c8fbb32c",
   "metadata": {},
   "outputs": [
    {
     "data": {
      "text/plain": [
       "{'criterion': 'gini',\n",
       " 'max_depth': 4,\n",
       " 'max_features': 'auto',\n",
       " 'n_estimators': 200}"
      ]
     },
     "execution_count": 53,
     "metadata": {},
     "output_type": "execute_result"
    }
   ],
   "source": [
    "GCV.best_params_"
   ]
  },
  {
   "cell_type": "code",
   "execution_count": 54,
   "id": "16b5eb69",
   "metadata": {},
   "outputs": [
    {
     "name": "stdout",
     "output_type": "stream",
     "text": [
      "Accuracy after tuning: 87.34491315136476 %\n"
     ]
    }
   ],
   "source": [
    "Loan = RandomForestClassifier (criterion='gini', max_depth=8, max_features='auto', n_estimators=200)\n",
    "Loan.fit(X_train, Y_train)\n",
    "pred = Loan.predict(X_train)\n",
    "acc=accuracy_score(Y_train,pred)\n",
    "print(\"Accuracy after tuning:\",acc*100,\"%\")"
   ]
  },
  {
   "cell_type": "markdown",
   "id": "f4ea849f",
   "metadata": {},
   "source": [
    "### Kneighbours method"
   ]
  },
  {
   "cell_type": "code",
   "execution_count": 55,
   "id": "44a04408",
   "metadata": {},
   "outputs": [
    {
     "name": "stdout",
     "output_type": "stream",
     "text": [
      "Best parameters : {'n_neighbors': 9}\n"
     ]
    }
   ],
   "source": [
    "X_train,X_test,Y_train,Y_test = train_test_split(X_scaled,Y,test_size=0.30,random_state=494)\n",
    "KNC=KNeighborsClassifier()\n",
    "parameters={'n_neighbors':range(1,10)}\n",
    "grid=GridSearchCV(KNC,parameters)\n",
    "grid.fit(X_train,Y_train)\n",
    "print(\"Best parameters :\",grid.best_params_)"
   ]
  },
  {
   "cell_type": "code",
   "execution_count": 56,
   "id": "08e66967",
   "metadata": {},
   "outputs": [
    {
     "name": "stdout",
     "output_type": "stream",
     "text": [
      "Accuracy score 89.08045977011494\n",
      "Cross validation score is:  80.59370314842577\n",
      "Mean score : 80.59370314842577\n",
      "STD : 2.6883461436746816\n"
     ]
    }
   ],
   "source": [
    "KNC=KNeighborsClassifier(n_neighbors=9)\n",
    "score=cross_val_score(KNC,X_scaled,Y,cv=5)\n",
    "\n",
    "KNC.fit(X_train,Y_train)\n",
    "pred=KNC.predict(X_test)\n",
    "acc_score=accuracy_score(Y_test,pred)\n",
    "print(\"Accuracy score\",(acc_score)*100)\n",
    "print(\"Cross validation score is: \", score.mean()*100)\n",
    "print(\"Mean score :\", (score.mean())*100)\n",
    "print(\"STD :\", score.std()*100)\n"
   ]
  },
  {
   "cell_type": "markdown",
   "id": "809e3b54",
   "metadata": {},
   "source": [
    "\n",
    "### ROC CURVE\n"
   ]
  },
  {
   "cell_type": "code",
   "execution_count": 57,
   "id": "91280836",
   "metadata": {},
   "outputs": [
    {
     "data": {
      "text/plain": [
       "SVC(random_state=494)"
      ]
     },
     "execution_count": 57,
     "metadata": {},
     "output_type": "execute_result"
    }
   ],
   "source": [
    "clf=SVC(random_state=494)\n",
    "clf.fit(X_test,Y_test)"
   ]
  },
  {
   "cell_type": "code",
   "execution_count": 58,
   "id": "42f794c9",
   "metadata": {},
   "outputs": [
    {
     "data": {
      "image/png": "[encoded data removed]",
      "text/plain": [
       "<Figure size 432x288 with 1 Axes>"
      ]
     },
     "metadata": {
      "needs_background": "light"
     },
     "output_type": "display_data"
    }
   ],
   "source": [
    "from sklearn import datasets\n",
    "from sklearn import metrics\n",
    "from sklearn import model_selection\n",
    "from sklearn.metrics import plot_roc_curve\n",
    "\n",
    "plot_roc_curve(Loan, X_test, Y_test)\n",
    "plt.title(\"ROC for the best model\")\n",
    "plt.show()"
   ]
  },
  {
   "cell_type": "code",
   "execution_count": 59,
   "id": "a3e2416a",
   "metadata": {},
   "outputs": [
    {
     "name": "stdout",
     "output_type": "stream",
     "text": [
      "[1]\n",
      "===\n",
      "Loan Given\n",
      "========================\n"
     ]
    }
   ],
   "source": [
    "# Building a predictive system using randomforest classifier\n",
    "\n",
    "input_data = (1,1,1.0,0,0,4583,1508.0,128.0,360.0,1.0,0)\n",
    "\n",
    "# changing the input data to a numpy arrary\n",
    "\n",
    "input_data_as_numpy_array = np.asarray(input_data)\n",
    "\n",
    "# reshaping the data as we are prediting the lable for only one instance\n",
    "\n",
    "input_data_reshaped = input_data_as_numpy_array.reshape(1, -1)\n",
    "\n",
    "prediction = Loan.predict (input_data_reshaped)\n",
    "print (prediction)\n",
    "print ('===')\n",
    "\n",
    "if prediction == 1:\n",
    "    print ('Loan Given')\n",
    "else:\n",
    "    print ('Loan not Given')\n",
    "\n",
    "print ('========================')"
   ]
  },
  {
   "cell_type": "code",
   "execution_count": 60,
   "id": "dac79d9b",
   "metadata": {},
   "outputs": [],
   "source": [
    "import joblib"
   ]
  },
  {
   "cell_type": "code",
   "execution_count": 61,
   "id": "1ca70bbb",
   "metadata": {},
   "outputs": [
    {
     "data": {
      "text/plain": [
       "['Loan_Prediction.obj']"
      ]
     },
     "execution_count": 61,
     "metadata": {},
     "output_type": "execute_result"
    }
   ],
   "source": [
    "joblib.dump(Loan.predict,'Loan_Prediction.obj')"
   ]
  },
  {
   "cell_type": "code",
   "execution_count": null,
   "id": "02512ff8",
   "metadata": {},
   "outputs": [],
   "source": []
  }
 ],
 "metadata": {
  "kernelspec": {
   "display_name": "Python 3 (ipykernel)",
   "language": "python",
   "name": "python3"
  },
  "language_info": {
   "codemirror_mode": {
    "name": "ipython",
    "version": 3
   },
   "file_extension": ".py",
   "mimetype": "text/x-python",
   "name": "python",
   "nbconvert_exporter": "python",
   "pygments_lexer": "ipython3",
   "version": "3.9.7"
  }
 },
 "nbformat": 4,
 "nbformat_minor": 5
}
